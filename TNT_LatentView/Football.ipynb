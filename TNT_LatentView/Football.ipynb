{
 "cells": [
  {
   "cell_type": "markdown",
   "metadata": {},
   "source": [
    "# Fantasy Football"
   ]
  },
  {
   "cell_type": "code",
   "execution_count": 1,
   "metadata": {
    "collapsed": false
   },
   "outputs": [
    {
     "name": "stderr",
     "output_type": "stream",
     "text": [
      "/Library/Frameworks/Python.framework/Versions/2.7/lib/python2.7/site-packages/matplotlib/__init__.py:872: UserWarning: axes.color_cycle is deprecated and replaced with axes.prop_cycle; please use the latter.\n",
      "  warnings.warn(self.msg_depr % (key, alt_key))\n"
     ]
    }
   ],
   "source": [
    "#Including libraries\n",
    "import pandas as pd\n",
    "%matplotlib inline\n",
    "import matplotlib.pyplot as plt\n",
    "import seaborn as sns\n",
    "import numpy as np\n",
    "import scipy.stats as st\n",
    "import xlrd\n",
    "import math\n",
    "\n",
    "from matplotlib import rcParams\n",
    "\n",
    "pd.set_option('display.max_columns', 200)\n",
    "pd.set_option('display.max_rows',2000)\n",
    "\n",
    "#these colors come from colorbrewer2.org. Each is an RGB triplet\n",
    "dark2_colors = [(0.10588235294117647, 0.6196078431372549, 0.4666666666666667),\n",
    "                (0.8509803921568627, 0.37254901960784315, 0.00784313725490196),\n",
    "                (0.4588235294117647, 0.4392156862745098, 0.7019607843137254),\n",
    "                (0.9058823529411765, 0.1607843137254902, 0.5411764705882353),\n",
    "                (0.4, 0.6509803921568628, 0.11764705882352941),\n",
    "                (0.9019607843137255, 0.6705882352941176, 0.00784313725490196),\n",
    "                (0.6509803921568628, 0.4627450980392157, 0.11372549019607843),\n",
    "                (0.4, 0.4, 0.4)]\n",
    "\n",
    "rcParams['figure.figsize'] = (10, 6)\n",
    "rcParams['figure.dpi'] = 150\n",
    "rcParams['axes.color_cycle'] = dark2_colors\n",
    "rcParams['lines.linewidth'] = 2\n",
    "rcParams['axes.grid'] = True\n",
    "rcParams['axes.facecolor'] = '#eeeeee'\n",
    "rcParams['font.size'] = 14\n",
    "rcParams['patch.edgecolor'] = 'none'"
   ]
  },
  {
   "cell_type": "code",
   "execution_count": 2,
   "metadata": {
    "collapsed": false
   },
   "outputs": [],
   "source": [
    "#Reading Data\n",
    "prices = pd.read_excel('Fantasy Football - DataSet.xlsx',sheetname='FPL Player Prices')\n",
    "data_2013 = pd.read_excel('Fantasy Football - DataSet.xlsx',sheetname='FPL Player Stats 2013-14')\n",
    "data_2014 = pd.read_excel('Fantasy Football - DataSet.xlsx',sheetname='FPL Player Stats 2014-15')\n",
    "data_2015 = pd.read_excel('Fantasy Football - DataSet.xlsx',sheetname='FPL Player Stats 2015-16')"
   ]
  },
  {
   "cell_type": "code",
   "execution_count": 3,
   "metadata": {
    "collapsed": false
   },
   "outputs": [],
   "source": [
    "#Removing Missing Values\n",
    "prices['FirstName'].fillna('-',inplace=True)"
   ]
  },
  {
   "cell_type": "code",
   "execution_count": 4,
   "metadata": {
    "collapsed": false
   },
   "outputs": [],
   "source": [
    "for i in range(1,115,1):\n",
    "    prices[str(i)] = 0"
   ]
  },
  {
   "cell_type": "code",
   "execution_count": 5,
   "metadata": {
    "collapsed": false
   },
   "outputs": [],
   "source": [
    "#Finding all teams\n",
    "teams = prices['Team'].unique()\n",
    "for i,v in enumerate(teams):\n",
    "    teams[i] = v.encode('ascii','ignore')"
   ]
  },
  {
   "cell_type": "code",
   "execution_count": 6,
   "metadata": {
    "collapsed": true
   },
   "outputs": [],
   "source": [
    "prices['Cost'] = prices['Cost']/1000000.0 #Bringing cost to millions"
   ]
  },
  {
   "cell_type": "code",
   "execution_count": 7,
   "metadata": {
    "collapsed": false
   },
   "outputs": [],
   "source": [
    "#Combining data from all three years into one after appending year to each sheet\n",
    "data_2013['Year'] = 2013\n",
    "data_2014['Year'] = 2014\n",
    "data_2015['Year'] = 2015\n",
    "points = pd.concat([data_2013,data_2014,data_2015])\n",
    "points = points.reset_index(drop=True)"
   ]
  },
  {
   "cell_type": "code",
   "execution_count": 8,
   "metadata": {
    "collapsed": false
   },
   "outputs": [],
   "source": [
    "prices['ID'] = 0 #This will be the unique identifier between 'points' and 'prices'\n",
    "points['ID'] = 0\n",
    "i = 1\n",
    "for index,row in prices.iterrows():\n",
    "    prices.set_value(index,'ID',i)\n",
    "    i = i + 1"
   ]
  },
  {
   "cell_type": "code",
   "execution_count": 9,
   "metadata": {
    "collapsed": false
   },
   "outputs": [],
   "source": [
    "teams2013 = points[points['Year']==2013]['Team'].unique()\n",
    "for i,v in enumerate(teams2013):\n",
    "    teams2013[i] = v.encode('ascii','ignore')\n",
    "teams2014 = points[points['Year']==2014]['Team'].unique()\n",
    "for i,v in enumerate(teams2014):\n",
    "    teams2013[i] = v.encode('ascii','ignore')\n",
    "teams2015 = points[points['Year']==2015]['Team'].unique()\n",
    "for i,v in enumerate(teams2015):\n",
    "    teams2013[i] = v.encode('ascii','ignore')"
   ]
  },
  {
   "cell_type": "code",
   "execution_count": 10,
   "metadata": {
    "collapsed": false
   },
   "outputs": [],
   "source": [
    "#Teams which have played all 3 seasons\n",
    "teams3 = []\n",
    "for i in teams2015:\n",
    "    if(i in teams2013 and i in teams2014 and i in teams):\n",
    "        teams3.append(i)"
   ]
  },
  {
   "cell_type": "markdown",
   "metadata": {},
   "source": [
    "# Arsenal "
   ]
  },
  {
   "cell_type": "code",
   "execution_count": 11,
   "metadata": {
    "collapsed": true
   },
   "outputs": [],
   "source": [
    "sur = ['Xhaka','Mustafi','Iwobi','Holding','Gnabry','Elneny','Asano'] #ARS\n",
    "for index,row in prices.iterrows():\n",
    "    if(row['Surname'] in sur and row['Team']=='ARS'):\n",
    "        prices.drop(index,inplace=True)"
   ]
  },
  {
   "cell_type": "code",
   "execution_count": 12,
   "metadata": {
    "collapsed": false
   },
   "outputs": [],
   "source": [
    "ars = prices[prices['Team']=='ARS']['Surname']\n",
    "po = [50,86,428,437,480]\n",
    "for i in po:\n",
    "    ars.pop(i)"
   ]
  },
  {
   "cell_type": "code",
   "execution_count": 13,
   "metadata": {
    "collapsed": false
   },
   "outputs": [],
   "source": [
    "ars_dic = {}\n",
    "for i in ars:\n",
    "    for index,row in prices.iterrows():\n",
    "        if(row['Team']=='ARS' and row['Surname']==i):\n",
    "            ars_dic[row['Surname'].encode('ascii','ignore')] = row['ID']"
   ]
  },
  {
   "cell_type": "code",
   "execution_count": 14,
   "metadata": {
    "collapsed": false
   },
   "outputs": [
    {
     "name": "stdout",
     "output_type": "stream",
     "text": [
      "Walcott\n",
      "Cazorla\n",
      "Giroud\n",
      "Ospina\n",
      "Gabriel\n",
      "Mertesacker\n",
      "Akpom\n",
      "Sanogo\n",
      "Monreal\n",
      "Ramsey\n",
      "Gibbs\n",
      "Debuchy\n",
      "Jenkinson\n",
      "Cech\n",
      "Coquelin\n",
      "Koscielny\n",
      "Chamberlain\n",
      "Welbeck\n"
     ]
    }
   ],
   "source": [
    "c = 0\n",
    "for i in ars_dic:\n",
    "    print i\n",
    "    for index,row in points.iterrows():\n",
    "        if(row['Name']==i):\n",
    "            if(row['ID']==0):\n",
    "                points.set_value(index,'ID',ars_dic[i])\n",
    "            else:\n",
    "                print row"
   ]
  },
  {
   "cell_type": "code",
   "execution_count": 15,
   "metadata": {
    "collapsed": true
   },
   "outputs": [],
   "source": [
    "for index,row in points.iterrows(): #Campbell\n",
    "    if(row['Name']=='Campbell' and row['PID']==28):\n",
    "        if(row['ID']==0):\n",
    "            points.set_value(index,'ID',87)\n",
    "        else:\n",
    "            print row"
   ]
  },
  {
   "cell_type": "code",
   "execution_count": 16,
   "metadata": {
    "collapsed": false
   },
   "outputs": [],
   "source": [
    "for index,row in points.iterrows(): #Bellerin\n",
    "    if(row['Team']=='ARS' and row['PID']==9):\n",
    "        if(row['ID']==0):\n",
    "            points.set_value(index,'ID',51)\n",
    "        else:\n",
    "            print row"
   ]
  },
  {
   "cell_type": "code",
   "execution_count": 17,
   "metadata": {
    "collapsed": false
   },
   "outputs": [],
   "source": [
    "for index,row in points.iterrows(): #Ozil\n",
    "    if(row['Team']=='ARS' and row['PID']==578 and row['Year']==2013):\n",
    "        if(row['ID']==0):\n",
    "            points.set_value(index,'ID',429)\n",
    "        else:\n",
    "            print row\n",
    "    if(row['Team']=='ARS' and row['PID']==21 and row['Year']==2014):\n",
    "        if(row['ID']==0):\n",
    "            points.set_value(index,'ID',429)\n",
    "        else:\n",
    "            print row\n",
    "    if(row['Team']=='ARS' and row['PID']==21 and row['Year']==2015):\n",
    "        if(row['ID']==0):\n",
    "            points.set_value(index,'ID',429)\n",
    "        else:\n",
    "            print row"
   ]
  },
  {
   "cell_type": "code",
   "execution_count": 18,
   "metadata": {
    "collapsed": false
   },
   "outputs": [],
   "source": [
    "for index,row in points.iterrows(): #Podolski\n",
    "    if(row['Team']=='ARS' and row['PID']==21 and row['Year']==2013):\n",
    "        if(row['ID']==0):\n",
    "            points.set_value(index,'ID',438)\n",
    "        else:\n",
    "            print row\n",
    "    if(row['Team']=='ARS' and row['PID']==24 and row['Year']==2014):\n",
    "        if(row['ID']==0):\n",
    "            points.set_value(index,'ID',438)\n",
    "        else:\n",
    "            print row\n",
    "    if(row['Team']=='ARS' and row['PID']==24 and row['Year']==2015):\n",
    "        if(row['ID']==0):\n",
    "            points.set_value(index,'ID',438)\n",
    "        else:\n",
    "            print row"
   ]
  },
  {
   "cell_type": "code",
   "execution_count": 19,
   "metadata": {
    "collapsed": false
   },
   "outputs": [],
   "source": [
    "for index,row in points.iterrows(): #Sanchez\n",
    "    if(row['Team']=='ARS' and row['PID']==23):\n",
    "        if(row['ID']==0):\n",
    "            points.set_value(index,'ID',481)\n",
    "        else:\n",
    "            print row"
   ]
  },
  {
   "cell_type": "markdown",
   "metadata": {},
   "source": [
    "# Manchester United"
   ]
  },
  {
   "cell_type": "code",
   "execution_count": 20,
   "metadata": {
    "collapsed": false
   },
   "outputs": [],
   "source": [
    "sur = ['Romero','Varela','Schweinsteiger','Rashford','Pogba','Pereira','Mkhitaryan','Martial','Ibrahimovic','Depay','Darmian','Borthwick-Jackson','Bailly','Fosu-Mensah'] #MUN\n",
    "for index,row in prices.iterrows():\n",
    "    if(row['Surname'] in sur and row['Team']=='MUN'):\n",
    "        prices.drop(index,inplace=True)"
   ]
  },
  {
   "cell_type": "code",
   "execution_count": 22,
   "metadata": {
    "collapsed": false
   },
   "outputs": [],
   "source": [
    "mun = prices[prices['Team']=='MUN']['Surname']\n",
    "po = [566,535,274,138]\n",
    "for i in po:\n",
    "    mun.pop(i)"
   ]
  },
  {
   "cell_type": "code",
   "execution_count": 23,
   "metadata": {
    "collapsed": false
   },
   "outputs": [],
   "source": [
    "mun_dic = {}\n",
    "for i in mun:\n",
    "    for index,row in prices.iterrows():\n",
    "        if(row['Team']=='MUN' and row['Surname']==i):\n",
    "            mun_dic[row['Surname'].encode('ascii','ignore')] = row['ID']"
   ]
  },
  {
   "cell_type": "code",
   "execution_count": 24,
   "metadata": {
    "collapsed": false
   },
   "outputs": [
    {
     "name": "stdout",
     "output_type": "stream",
     "text": [
      "Blind\n",
      "Carrick\n",
      "Fellaini\n",
      "Lingard\n",
      "Shaw\n",
      "Rojo\n",
      "Herrera\n",
      "Young\n",
      "Schneiderlin\n",
      "Smalling\n",
      "Rooney\n",
      "Mata\n"
     ]
    }
   ],
   "source": [
    "c = 0\n",
    "for i in mun_dic:\n",
    "    print i\n",
    "    for index,row in points.iterrows():\n",
    "        if(row['Name']==i):\n",
    "            if(row['ID']==0):\n",
    "                points.set_value(index,'ID',mun_dic[i])\n",
    "            else:\n",
    "                print row"
   ]
  },
  {
   "cell_type": "code",
   "execution_count": 25,
   "metadata": {
    "collapsed": true
   },
   "outputs": [],
   "source": [
    "for index,row in points.iterrows(): #Wilson\n",
    "    if(row['Name']=='Wilson' and row['Team']=='MUN'):\n",
    "        if(row['ID']==0):\n",
    "            points.set_value(index,'ID',567)\n",
    "        else:\n",
    "            print row"
   ]
  },
  {
   "cell_type": "code",
   "execution_count": 26,
   "metadata": {
    "collapsed": true
   },
   "outputs": [],
   "source": [
    "for index,row in points.iterrows(): #Valencia\n",
    "    if(row['Name']=='Valencia' and row['Team']=='MUN'):\n",
    "        if(row['ID']==0):\n",
    "            points.set_value(index,'ID',536)\n",
    "        else:\n",
    "            print row"
   ]
  },
  {
   "cell_type": "code",
   "execution_count": 27,
   "metadata": {
    "collapsed": false
   },
   "outputs": [],
   "source": [
    "for index,row in points.iterrows(): #de Gea\n",
    "    if(row['Name']=='de Gea' and row['Team']=='MUN'):\n",
    "        if(row['ID']==0):\n",
    "            points.set_value(index,'ID',139)\n",
    "        else:\n",
    "            print row\n",
    "    if(row['Name']=='De Gea' and row['Team']=='MUN'):\n",
    "        if(row['ID']==0):\n",
    "            points.set_value(index,'ID',139)\n",
    "        else:\n",
    "            print row"
   ]
  },
  {
   "cell_type": "code",
   "execution_count": 28,
   "metadata": {
    "collapsed": true
   },
   "outputs": [],
   "source": [
    "for index,row in points.iterrows(): #Jones\n",
    "    if(row['Team']=='MUN' and row['PID']==245 and row['Year']==2013):\n",
    "        if(row['ID']==0):\n",
    "            points.set_value(index,'ID',275)\n",
    "        else:\n",
    "            print row\n",
    "    if(row['Team']=='MUN' and row['PID']==260 and row['Year']==2014):\n",
    "        if(row['ID']==0):\n",
    "            points.set_value(index,'ID',275)\n",
    "        else:\n",
    "            print row\n",
    "    if(row['Team']=='MUN' and row['PID']==260 and row['Year']==2015):\n",
    "        if(row['ID']==0):\n",
    "            points.set_value(index,'ID',275)\n",
    "        else:\n",
    "            print row"
   ]
  },
  {
   "cell_type": "markdown",
   "metadata": {},
   "source": [
    "# Chelsea"
   ]
  },
  {
   "cell_type": "code",
   "execution_count": 29,
   "metadata": {
    "collapsed": true
   },
   "outputs": [],
   "source": [
    "sur = ['Traore','Miazga','Batshuayi','Baba Rahman','Aina','Pedro'] #CHE\n",
    "for index,row in prices.iterrows():\n",
    "    if(row['Surname'] in sur and row['Team']=='CHE'):\n",
    "        prices.drop(index,inplace=True)"
   ]
  },
  {
   "cell_type": "code",
   "execution_count": 30,
   "metadata": {
    "collapsed": false
   },
   "outputs": [],
   "source": [
    "prices = prices.reset_index(drop=True) #Resetting index for deletion of Kante"
   ]
  },
  {
   "cell_type": "code",
   "execution_count": 32,
   "metadata": {
    "collapsed": false
   },
   "outputs": [],
   "source": [
    "prices = prices.drop(prices.index[[268]]) #dropping Kante"
   ]
  },
  {
   "cell_type": "code",
   "execution_count": 34,
   "metadata": {
    "collapsed": false
   },
   "outputs": [],
   "source": [
    "che = prices[prices['Team']=='CHE']['Surname']\n",
    "po = [163,515]\n",
    "for i in po:\n",
    "    che.pop(i)"
   ]
  },
  {
   "cell_type": "code",
   "execution_count": 35,
   "metadata": {
    "collapsed": false
   },
   "outputs": [],
   "source": [
    "che_dic = {}\n",
    "for i in che:\n",
    "    for index,row in prices.iterrows():\n",
    "        if(row['Team']=='CHE' and row['Surname']==i):\n",
    "            che_dic[row['Surname'].encode('ascii','ignore')] = row['ID']"
   ]
  },
  {
   "cell_type": "code",
   "execution_count": 36,
   "metadata": {
    "collapsed": false
   },
   "outputs": [
    {
     "name": "stdout",
     "output_type": "stream",
     "text": [
      "Costa\n",
      "Begovic\n",
      "Mikel\n",
      "Loftus-Cheek\n",
      "Alonso\n",
      "Oscar\n",
      "Terry\n",
      "Zouma\n",
      "Hazard\n",
      "Azpilicueta\n",
      "Cuadrado\n",
      "David Luiz\n",
      "Willian\n",
      "Chalobah\n",
      "Matic\n",
      "Moses\n",
      "Ivanovic\n",
      "Courtois\n",
      "Cahill\n"
     ]
    }
   ],
   "source": [
    "c = 0\n",
    "for i in che_dic:\n",
    "    print i\n",
    "    for index,row in points.iterrows():\n",
    "        if(row['Name']==i):\n",
    "            if(row['ID']==0):\n",
    "                points.set_value(index,'ID',che_dic[i])\n",
    "            else:\n",
    "                print row"
   ]
  },
  {
   "cell_type": "code",
   "execution_count": 37,
   "metadata": {
    "collapsed": false
   },
   "outputs": [],
   "source": [
    "for index,row in points.iterrows(): #Fabregas\n",
    "    if(row['Team']=='CHE' and row['PID']==100 and row['Year']>=2014):\n",
    "        if(row['ID']==0):\n",
    "            points.set_value(index,'ID',173)\n",
    "        else:\n",
    "            print row"
   ]
  },
  {
   "cell_type": "code",
   "execution_count": 38,
   "metadata": {
    "collapsed": true
   },
   "outputs": [],
   "source": [
    "for index,row in points.iterrows(): #vanGinkel\n",
    "    if(row['Name']=='van Ginkel'):\n",
    "        if(row['ID']==0):\n",
    "            points.set_value(index,'ID',541)\n",
    "        else:\n",
    "            print row"
   ]
  },
  {
   "cell_type": "markdown",
   "metadata": {},
   "source": [
    "# Manchester City"
   ]
  },
  {
   "cell_type": "code",
   "execution_count": 39,
   "metadata": {
    "collapsed": true
   },
   "outputs": [],
   "source": [
    "sur = ['Zinchenko','Otamendi','Maffeo','Iheanacho','Bravo','Angelino','Nolito'] #MCI\n",
    "for index,row in prices.iterrows():\n",
    "    if(row['Surname'] in sur and row['Team']=='MCI'):\n",
    "        prices.drop(index,inplace=True)"
   ]
  },
  {
   "cell_type": "code",
   "execution_count": 41,
   "metadata": {
    "collapsed": true
   },
   "outputs": [],
   "source": [
    "mci = prices[prices['Team']=='MCI']['Surname']\n",
    "po = [6,194,217,458,546] #Remove toure,sane,gundogan,garcia and aguero\n",
    "for i in po:\n",
    "    mci.pop(i)"
   ]
  },
  {
   "cell_type": "code",
   "execution_count": 42,
   "metadata": {
    "collapsed": true
   },
   "outputs": [],
   "source": [
    "mci_dic = {}\n",
    "for i in mci:\n",
    "    for index,row in prices.iterrows():\n",
    "        if(row['Team']=='MCI' and row['Surname']==i):\n",
    "            mci_dic[row['Surname'].encode('ascii','ignore')] = row['ID']"
   ]
  },
  {
   "cell_type": "code",
   "execution_count": 43,
   "metadata": {
    "collapsed": false
   },
   "outputs": [
    {
     "name": "stdout",
     "output_type": "stream",
     "text": [
      "Nasri\n",
      "Sterling\n",
      "Silva\n",
      "Kolarov\n",
      "Kompany\n",
      "Stones\n",
      "Mangala\n",
      "Fernando\n",
      "Clichy\n",
      "De Bruyne\n",
      "Delph\n",
      "Fernandinho\n",
      "Caballero\n",
      "Navas\n",
      "Hart\n",
      "Zabaleta\n",
      "Sagna\n"
     ]
    }
   ],
   "source": [
    "c = 0\n",
    "for i in mci_dic:\n",
    "    print i\n",
    "    for index,row in points.iterrows():\n",
    "        if(row['Name']==i):\n",
    "            if(row['ID']==0):\n",
    "                points.set_value(index,'ID',mci_dic[i])\n",
    "            else:\n",
    "                print row"
   ]
  },
  {
   "cell_type": "code",
   "execution_count": 44,
   "metadata": {
    "collapsed": true
   },
   "outputs": [],
   "source": [
    "prices = prices.reset_index(drop=True) #Resetting index for deletion of Sane, Gundogan and Garcia from \"prices\""
   ]
  },
  {
   "cell_type": "code",
   "execution_count": 46,
   "metadata": {
    "collapsed": true
   },
   "outputs": [],
   "source": [
    "prices = prices.drop(prices.index[[192,215,451]]) #dropping"
   ]
  },
  {
   "cell_type": "code",
   "execution_count": 48,
   "metadata": {
    "collapsed": true
   },
   "outputs": [],
   "source": [
    "for index,row in points.iterrows(): #Aguero\n",
    "    if(row['Team']=='MCI' and row['PID']==241 and row['Year']==2013):\n",
    "        if(row['ID']==0):\n",
    "            points.set_value(index,'ID',7)\n",
    "        else:\n",
    "            print row\n",
    "    if(row['Team']=='MCI' and row['PID']==254 and row['Year']==2014):\n",
    "        if(row['ID']==0):\n",
    "            points.set_value(index,'ID',7)\n",
    "        else:\n",
    "            print row        \n",
    "    if(row['Team']=='MCI' and row['PID']==254 and row['Year']==2015):\n",
    "        if(row['ID']==0):\n",
    "            points.set_value(index,'ID',7)\n",
    "        else:\n",
    "            print row"
   ]
  },
  {
   "cell_type": "code",
   "execution_count": 49,
   "metadata": {
    "collapsed": true
   },
   "outputs": [],
   "source": [
    "for index,row in points.iterrows(): #Yaya Toure\n",
    "    if(row['Team']=='MCI' and row['PID']==232 and row['Year']==2013):\n",
    "        if(row['ID']==0):\n",
    "            points.set_value(index,'ID',574)\n",
    "        else:\n",
    "            print row\n",
    "    if(row['Team']=='MCI' and row['PID']==246 and row['Year']==2014):\n",
    "        if(row['ID']==0):\n",
    "            points.set_value(index,'ID',574)\n",
    "        else:\n",
    "            print row        \n",
    "    if(row['Team']=='MCI' and row['PID']==246 and row['Year']==2015):\n",
    "        if(row['ID']==0):\n",
    "            points.set_value(index,'ID',574)\n",
    "        else:\n",
    "            print row"
   ]
  },
  {
   "cell_type": "markdown",
   "metadata": {},
   "source": [
    "# Liverpool"
   ]
  },
  {
   "cell_type": "code",
   "execution_count": 50,
   "metadata": {
    "collapsed": true
   },
   "outputs": [],
   "source": [
    "sur = ['Wijnaldum','Stewart','Sheyi Ojo','Randall','Origi','Matip','Manninger','Klavan','Karius','Grujic','Gomez','Firmino','Ejaria','Chirivella','Brannagan','Alexander-Arnold'] #LIV\n",
    "for index,row in prices.iterrows():\n",
    "    if(row['Surname'] in sur and row['Team']=='LIV'):\n",
    "        prices.drop(index,inplace=True)"
   ]
  },
  {
   "cell_type": "code",
   "execution_count": 52,
   "metadata": {
    "collapsed": true
   },
   "outputs": [],
   "source": [
    "liv = prices[prices['Team']=='LIV']['Surname']\n",
    "po = [319,448] #Remove sadio mane and sakho\n",
    "for i in po:\n",
    "    liv.pop(i)"
   ]
  },
  {
   "cell_type": "code",
   "execution_count": 53,
   "metadata": {
    "collapsed": false
   },
   "outputs": [],
   "source": [
    "liv_dic = {}\n",
    "for i in liv:\n",
    "    for index,row in prices.iterrows():\n",
    "        if(row['Team']=='LIV' and row['Surname']==i):\n",
    "            liv_dic[row['Surname'].encode('ascii','ignore')] = row['ID']"
   ]
  },
  {
   "cell_type": "code",
   "execution_count": 54,
   "metadata": {
    "collapsed": false
   },
   "outputs": [
    {
     "name": "stdout",
     "output_type": "stream",
     "text": [
      "Mignolet\n",
      "Clyne\n",
      "Lucas\n",
      "Balotelli\n",
      "Lovren\n",
      "Sturridge\n",
      "Lallana\n",
      "Milner\n",
      "Coutinho\n",
      "Moreno\n",
      "Can\n",
      "Ings\n",
      "Markovic\n",
      "Henderson\n"
     ]
    }
   ],
   "source": [
    "for i in liv_dic:\n",
    "    print i\n",
    "    for index,row in points.iterrows():\n",
    "        if(row['Name']==i):\n",
    "            if(row['ID']==0):\n",
    "                points.set_value(index,'ID',liv_dic[i])\n",
    "            else:\n",
    "                print row"
   ]
  },
  {
   "cell_type": "code",
   "execution_count": 56,
   "metadata": {
    "collapsed": false
   },
   "outputs": [],
   "source": [
    "for index,row in points.iterrows(): #Sakho\n",
    "    if(row['Team']=='LIV' and row['PID']==571 and row['Year']==2013):\n",
    "        if(row['ID']==0):\n",
    "            points.set_value(index,'ID',479)\n",
    "        else:\n",
    "            print row\n",
    "    if(row['Team']=='LIV' and row['PID']==211 and row['Year']==2014):\n",
    "        if(row['ID']==0):\n",
    "            points.set_value(index,'ID',479)\n",
    "        else:\n",
    "            print row        \n",
    "    if(row['Team']=='LIV' and row['PID']==211 and row['Year']==2015):\n",
    "        if(row['ID']==0):\n",
    "            points.set_value(index,'ID',479)\n",
    "        else:\n",
    "            print row"
   ]
  },
  {
   "cell_type": "code",
   "execution_count": 57,
   "metadata": {
    "collapsed": false
   },
   "outputs": [],
   "source": [
    "for index,row in points.iterrows(): #Sadio Mane\n",
    "    if(row['Team']=='SOU' and row['PID']==604):\n",
    "        if(row['ID']==0):\n",
    "            points.set_value(index,'ID',339)\n",
    "        else:\n",
    "            print row"
   ]
  },
  {
   "cell_type": "markdown",
   "metadata": {},
   "source": [
    "# Tottenham Hotspurs"
   ]
  },
  {
   "cell_type": "code",
   "execution_count": 58,
   "metadata": {
    "collapsed": false
   },
   "outputs": [],
   "source": [
    "sur = ['Winks','Wimmer','Son','Onomah','Nkoudo','McGee','Janssen','Carter-Vickers','Alli'] #TOT\n",
    "for index,row in prices.iterrows():\n",
    "    if(row['Surname'] in sur and row['Team']=='TOT'):\n",
    "        prices.drop(index,inplace=True)"
   ]
  },
  {
   "cell_type": "code",
   "execution_count": 60,
   "metadata": {
    "collapsed": true
   },
   "outputs": [],
   "source": [
    "tot = prices[prices['Team']=='TOT']['Surname']\n",
    "po = [83,122,140,377,406]\n",
    "for i in po:\n",
    "    tot.pop(i)"
   ]
  },
  {
   "cell_type": "code",
   "execution_count": 61,
   "metadata": {
    "collapsed": false
   },
   "outputs": [],
   "source": [
    "prices = prices.reset_index(drop=True) #Resetting index for deletion of N'Jie from \"prices\""
   ]
  },
  {
   "cell_type": "code",
   "execution_count": 63,
   "metadata": {
    "collapsed": true
   },
   "outputs": [],
   "source": [
    "prices = prices.drop(prices.index[[360]]) #dropping"
   ]
  },
  {
   "cell_type": "code",
   "execution_count": 64,
   "metadata": {
    "collapsed": false
   },
   "outputs": [],
   "source": [
    "tot_dic = {}\n",
    "for i in tot:\n",
    "    for index,row in prices.iterrows():\n",
    "        if(row['Team']=='TOT' and row['Surname']==i):\n",
    "            tot_dic[row['Surname'].encode('ascii','ignore')] = row['ID']"
   ]
  },
  {
   "cell_type": "code",
   "execution_count": 65,
   "metadata": {
    "collapsed": false
   },
   "outputs": [
    {
     "name": "stdout",
     "output_type": "stream",
     "text": [
      "Vertonghen\n",
      "Eriksen\n",
      "Lloris\n",
      "Dier\n",
      "Rose\n",
      "Kane\n",
      "Wanyama\n",
      "Pritchard\n",
      "Sissoko\n",
      "Lamela\n",
      "Alderweireld\n",
      "Vorm\n",
      "Walker\n",
      "Yedlin\n",
      "Bentaleb\n",
      "Trippier\n"
     ]
    }
   ],
   "source": [
    "for i in tot_dic:\n",
    "    print i\n",
    "    for index,row in points.iterrows():\n",
    "        if(row['Name']==i):\n",
    "            points.set_value(index,'ID',tot_dic[i])"
   ]
  },
  {
   "cell_type": "code",
   "execution_count": 66,
   "metadata": {
    "collapsed": false
   },
   "outputs": [],
   "source": [
    "for index,row in points.iterrows(): #Carroll\n",
    "    if(row['Team']=='SWA' and row['Name']=='Carroll'):\n",
    "        if(row['ID']==0):\n",
    "            points.set_value(index,'ID',92)\n",
    "        else:\n",
    "            print row"
   ]
  },
  {
   "cell_type": "code",
   "execution_count": 67,
   "metadata": {
    "collapsed": false
   },
   "outputs": [],
   "source": [
    "for index,row in points.iterrows(): #Davies\n",
    "    if(row['Team']=='SWA' and row['Name']=='Davies' and row['Year']==2013):\n",
    "        if(row['ID']==0):\n",
    "            points.set_value(index,'ID',132)\n",
    "        else:\n",
    "            print row\n",
    "    if(row['Team']=='TOT' and row['Name']=='Davies' and row['Year']==2014):\n",
    "        if(row['ID']==0):\n",
    "            points.set_value(index,'ID',132)\n",
    "        else:\n",
    "            print row        \n",
    "    if(row['Team']=='TOT' and row['Name']=='Davies' and row['Year']==2015):\n",
    "        if(row['ID']==0):\n",
    "            points.set_value(index,'ID',132)\n",
    "        else:\n",
    "            print row"
   ]
  },
  {
   "cell_type": "code",
   "execution_count": 70,
   "metadata": {
    "collapsed": false
   },
   "outputs": [],
   "source": [
    "prices = prices.reset_index(drop=True) #Resetting index for deletion of Pau Lopez from \"prices\"\n",
    "prices = prices.drop(prices.index[[385]]) #dropping"
   ]
  },
  {
   "cell_type": "code",
   "execution_count": 71,
   "metadata": {
    "collapsed": false
   },
   "outputs": [],
   "source": [
    "for index,row in points.iterrows(): #Dembele\n",
    "    if(row['Team']=='TOT' and row['PID']==432 and row['Year']==2013):\n",
    "        if(row['ID']==0):\n",
    "            points.set_value(index,'ID',150)\n",
    "        else:\n",
    "            print row\n",
    "    if(row['Team']=='TOT' and row['PID']==376 and row['Year']==2014):\n",
    "        if(row['ID']==0):\n",
    "            points.set_value(index,'ID',150)\n",
    "        else:\n",
    "            print row        \n",
    "    if(row['Team']=='TOT' and row['PID']==376 and row['Year']==2015):\n",
    "        if(row['ID']==0):\n",
    "            points.set_value(index,'ID',150)\n",
    "        else:\n",
    "            print row"
   ]
  },
  {
   "cell_type": "markdown",
   "metadata": {},
   "source": [
    "# WestHam United"
   ]
  },
  {
   "cell_type": "code",
   "execution_count": 72,
   "metadata": {
    "collapsed": false
   },
   "outputs": [],
   "source": [
    "sur = ['Zaza','Randolph','Payet','Oxford','Ogbonna','Obiang','Nordtveit','Masuaku','Lanzini','Fletcher','Fernandes','Feghouli','Cullen','Calleri','Byram','Ayew','Arbeloa','Antonio'] #WHU\n",
    "for index,row in prices.iterrows():\n",
    "    if(row['Surname'] in sur and row['Team']=='WHU'):\n",
    "        prices.drop(index,inplace=True)"
   ]
  },
  {
   "cell_type": "code",
   "execution_count": 74,
   "metadata": {
    "collapsed": false
   },
   "outputs": [],
   "source": [
    "whu = prices[prices['Team']=='WHU']['Surname']\n",
    "po = [3,79,271,409,425,469]\n",
    "for i in po:\n",
    "    whu.pop(i)"
   ]
  },
  {
   "cell_type": "code",
   "execution_count": 75,
   "metadata": {
    "collapsed": false
   },
   "outputs": [],
   "source": [
    "whu_dic = {}\n",
    "for i in whu:\n",
    "    for index,row in prices.iterrows():\n",
    "        if(row['Team']=='WHU' and row['Surname']==i):\n",
    "            whu_dic[row['Surname'].encode('ascii','ignore')] = row['ID']"
   ]
  },
  {
   "cell_type": "code",
   "execution_count": 76,
   "metadata": {
    "collapsed": false
   },
   "outputs": [
    {
     "name": "stdout",
     "output_type": "stream",
     "text": [
      "Collins\n",
      "Cresswell\n",
      "Burke\n",
      "Noble\n"
     ]
    }
   ],
   "source": [
    "for i in whu_dic:\n",
    "    print i\n",
    "    for index,row in points.iterrows():\n",
    "        if(row['Name']==i):\n",
    "            if(row['ID']==0):\n",
    "                points.set_value(index,'ID',whu_dic[i])\n",
    "            else:\n",
    "                print row"
   ]
  },
  {
   "cell_type": "code",
   "execution_count": 77,
   "metadata": {
    "collapsed": true
   },
   "outputs": [],
   "source": [
    "for index,row in points.iterrows(): #Sakho\n",
    "    if(row['Team']=='WHU' and row['Name']=='Sakho'):\n",
    "        if(row['ID']==0):\n",
    "            points.set_value(index,'ID',478)\n",
    "        else:\n",
    "            print row"
   ]
  },
  {
   "cell_type": "code",
   "execution_count": 78,
   "metadata": {
    "collapsed": true
   },
   "outputs": [],
   "source": [
    "for index,row in points.iterrows(): #Reid\n",
    "    if(row['Team']=='WHU' and row['Name']=='Reid'):\n",
    "        if(row['ID']==0):\n",
    "            points.set_value(index,'ID',461)\n",
    "        else:\n",
    "            print row"
   ]
  },
  {
   "cell_type": "code",
   "execution_count": 79,
   "metadata": {
    "collapsed": true
   },
   "outputs": [],
   "source": [
    "for index,row in points.iterrows(): #Carroll\n",
    "    if(row['Team']=='WHU' and row['Name']=='Carroll'):\n",
    "        if(row['ID']==0):\n",
    "            points.set_value(index,'ID',91)\n",
    "        else:\n",
    "            print row"
   ]
  },
  {
   "cell_type": "code",
   "execution_count": 82,
   "metadata": {
    "collapsed": false
   },
   "outputs": [],
   "source": [
    "prices = prices.reset_index(drop=True) #Resetting index for deletion of Tore from \"prices\"\n",
    "prices = prices.drop(prices.index[[451]]) #dropping"
   ]
  },
  {
   "cell_type": "code",
   "execution_count": 83,
   "metadata": {
    "collapsed": false
   },
   "outputs": [],
   "source": [
    "for index,row in points.iterrows(): #Adrian\n",
    "    if(row['PID']==474 and row['Year']==2013):\n",
    "        if(row['ID']==0):\n",
    "            points.set_value(index,'ID',4)\n",
    "        else:\n",
    "            print row\n",
    "    if(row['PID']==498 and row['Year']==2014):\n",
    "        if(row['ID']==0):\n",
    "            points.set_value(index,'ID',4)\n",
    "        else:\n",
    "            print row        \n",
    "    if(row['PID']==498 and row['Year']==2015):\n",
    "        if(row['ID']==0):\n",
    "            points.set_value(index,'ID',4)\n",
    "        else:\n",
    "            print row"
   ]
  },
  {
   "cell_type": "code",
   "execution_count": 84,
   "metadata": {
    "collapsed": false
   },
   "outputs": [],
   "source": [
    "for index,row in points.iterrows(): #Kouyate\n",
    "    if(row['PID']==514 and row['Year']==2014):\n",
    "        if(row['ID']==0):\n",
    "            points.set_value(index,'ID',304)\n",
    "        else:\n",
    "            print row        \n",
    "    if(row['PID']==514 and row['Year']==2015):\n",
    "        if(row['ID']==0):\n",
    "            points.set_value(index,'ID',304)\n",
    "        else:\n",
    "            print row"
   ]
  },
  {
   "cell_type": "markdown",
   "metadata": {},
   "source": [
    "# Everton"
   ]
  },
  {
   "cell_type": "code",
   "execution_count": 85,
   "metadata": {
    "collapsed": false
   },
   "outputs": [],
   "source": [
    "sur = ['Pennington','Niasse','Holgate','Gueye','Funes Mori','Davies',] #EVE\n",
    "for index,row in prices.iterrows():\n",
    "    if(row['Surname'] in sur and row['Team']=='EVE'):\n",
    "        prices.drop(index,inplace=True)"
   ]
  },
  {
   "cell_type": "code",
   "execution_count": 87,
   "metadata": {
    "collapsed": false
   },
   "outputs": [],
   "source": [
    "eve = prices[prices['Team']=='EVE']['Surname']\n",
    "po = [258,316,460,484]\n",
    "for i in po:\n",
    "    eve.pop(i)"
   ]
  },
  {
   "cell_type": "code",
   "execution_count": 88,
   "metadata": {
    "collapsed": false
   },
   "outputs": [],
   "source": [
    "eve_dic = {}\n",
    "for i in eve:\n",
    "    for index,row in prices.iterrows():\n",
    "        if(row['Team']=='EVE' and row['Surname']==i):\n",
    "            eve_dic[row['Surname'].encode('ascii','ignore')] = row['ID']"
   ]
  },
  {
   "cell_type": "code",
   "execution_count": 89,
   "metadata": {
    "collapsed": false
   },
   "outputs": [
    {
     "name": "stdout",
     "output_type": "stream",
     "text": [
      "Oviedo\n",
      "Lukaku\n",
      "Lennon\n",
      "Barry\n",
      "Jagielka\n",
      "Barkley\n",
      "Browning\n",
      "Stekelenburg\n",
      "Besic\n",
      "Baines\n",
      "Mirallas\n",
      "Cleverley\n",
      "Coleman\n",
      "Gibson\n",
      "Robles\n",
      "Bolasie\n",
      "Deulofeu\n"
     ]
    }
   ],
   "source": [
    "for i in eve_dic:\n",
    "    print i\n",
    "    for index,row in points.iterrows():\n",
    "        if(row['Name']==i):\n",
    "            if(row['ID']==0):\n",
    "                points.set_value(index,'ID',eve_dic[i])\n",
    "            else:\n",
    "                print row"
   ]
  },
  {
   "cell_type": "code",
   "execution_count": 90,
   "metadata": {
    "collapsed": true
   },
   "outputs": [],
   "source": [
    "for index,row in points.iterrows(): #Williams\n",
    "    if(row['Team']=='SWA' and row['Name']=='Williams'):\n",
    "        if(row['ID']==0):\n",
    "            points.set_value(index,'ID',563)\n",
    "        else:\n",
    "            print row"
   ]
  },
  {
   "cell_type": "code",
   "execution_count": 91,
   "metadata": {
    "collapsed": true
   },
   "outputs": [],
   "source": [
    "for index,row in points.iterrows(): #Valencia\n",
    "    if(row['Team']=='WHU' and row['Name']=='Valencia'):\n",
    "        if(row['ID']==0):\n",
    "            points.set_value(index,'ID',537)\n",
    "        else:\n",
    "            print row"
   ]
  },
  {
   "cell_type": "code",
   "execution_count": 92,
   "metadata": {
    "collapsed": true
   },
   "outputs": [],
   "source": [
    "for index,row in points.iterrows(): #McCarthy\n",
    "    if(row['Team']=='EVE' and row['Name']=='McCarthy'):\n",
    "        if(row['ID']==0):\n",
    "            points.set_value(index,'ID',364)\n",
    "        else:\n",
    "            print row"
   ]
  },
  {
   "cell_type": "code",
   "execution_count": 93,
   "metadata": {
    "collapsed": false
   },
   "outputs": [],
   "source": [
    "for index,row in points.iterrows(): #Kone\n",
    "    if(row['PID']==144 and row['Year']==2013):\n",
    "        if(row['ID']==0):\n",
    "            points.set_value(index,'ID',300)\n",
    "        else:\n",
    "            print row  \n",
    "    if(row['PID']==153 and row['Year']==2014):\n",
    "        if(row['ID']==0):\n",
    "            points.set_value(index,'ID',300)\n",
    "        else:\n",
    "            print row        \n",
    "    if(row['PID']==153 and row['Year']==2015):\n",
    "        if(row['ID']==0):\n",
    "            points.set_value(index,'ID',300)\n",
    "        else:\n",
    "            print row"
   ]
  },
  {
   "cell_type": "markdown",
   "metadata": {},
   "source": [
    "# Southampton"
   ]
  },
  {
   "cell_type": "code",
   "execution_count": 95,
   "metadata": {
    "collapsed": false
   },
   "outputs": [],
   "source": [
    "sur = ['van Dijk','Stephens','Pied','Oriol Romeu','Martina','Clasie','Boufal'] #SOU\n",
    "for index,row in prices.iterrows():\n",
    "    if(row['Surname'] in sur and row['Team']=='SOU'):\n",
    "        prices.drop(index,inplace=True)"
   ]
  },
  {
   "cell_type": "code",
   "execution_count": 97,
   "metadata": {
    "collapsed": false
   },
   "outputs": [],
   "source": [
    "sou = prices[prices['Team']=='SOU']['Surname']\n",
    "po = [80,212,315,114]\n",
    "for i in po:\n",
    "    sou.pop(i)"
   ]
  },
  {
   "cell_type": "code",
   "execution_count": 98,
   "metadata": {
    "collapsed": false
   },
   "outputs": [],
   "source": [
    "sou_dic = {}\n",
    "for i in sou:\n",
    "    for index,row in prices.iterrows():\n",
    "        if(row['Team']=='SOU' and row['Surname']==i):\n",
    "            sou_dic[row['Surname'].encode('ascii','ignore')] = row['ID']"
   ]
  },
  {
   "cell_type": "code",
   "execution_count": 99,
   "metadata": {
    "collapsed": false
   },
   "outputs": [
    {
     "name": "stdout",
     "output_type": "stream",
     "text": [
      "Redmond\n",
      "Targett\n",
      "Bertrand\n",
      "Yoshida\n",
      "Gardos\n",
      "Long\n",
      "Rodriguez\n",
      "Isgrove\n",
      "Reed\n",
      "Tadic\n",
      "Gazzaniga\n",
      "Ward-Prowse\n",
      "Forster\n",
      "Austin\n",
      "Fonte\n"
     ]
    }
   ],
   "source": [
    "for i in sou_dic:\n",
    "    print i\n",
    "    for index,row in points.iterrows():\n",
    "        if(row['Name']==i):\n",
    "            if(row['ID']==0):\n",
    "                points.set_value(index,'ID',sou_dic[i])\n",
    "            else:\n",
    "                print row"
   ]
  },
  {
   "cell_type": "code",
   "execution_count": 100,
   "metadata": {
    "collapsed": false
   },
   "outputs": [],
   "source": [
    "for index,row in points.iterrows(): #McCarthy\n",
    "    if(row['Name']=='McCarthy' and row['PID']==607):\n",
    "        if(row['ID']==0):\n",
    "            points.set_value(index,'ID',363)\n",
    "        else:\n",
    "            print row"
   ]
  },
  {
   "cell_type": "code",
   "execution_count": 101,
   "metadata": {
    "collapsed": false
   },
   "outputs": [],
   "source": [
    "for index,row in points.iterrows(): #Steven Davis\n",
    "    if(row['Name']=='Davis' and row['Team']=='SOU'):\n",
    "        if(row['ID']==0):\n",
    "            points.set_value(index,'ID',135)\n",
    "        else:\n",
    "            print row\n",
    "    if(row['Name']=='Steven Davis' and row['Team']=='SOU'):\n",
    "        if(row['ID']==0):\n",
    "            points.set_value(index,'ID',135)\n",
    "        else:\n",
    "            print row"
   ]
  },
  {
   "cell_type": "code",
   "execution_count": 104,
   "metadata": {
    "collapsed": false
   },
   "outputs": [],
   "source": [
    "prices = prices.reset_index(drop=True) #Resetting index for deletion of Cedric from \"prices\"\n",
    "prices = prices.drop(prices.index[[79,207]]) #dropping"
   ]
  },
  {
   "cell_type": "markdown",
   "metadata": {},
   "source": [
    "# Swansea City"
   ]
  },
  {
   "cell_type": "code",
   "execution_count": 105,
   "metadata": {
    "collapsed": false
   },
   "outputs": [],
   "source": [
    "sur = ['van der Hoorn','Tabanou','Nordfeldt','McBurnie','Mawson','Llorente','Kingsley'] #SWA\n",
    "for index,row in prices.iterrows():\n",
    "    if(row['Surname'] in sur and row['Team']=='SWA'):\n",
    "        prices.drop(index,inplace=True)"
   ]
  },
  {
   "cell_type": "code",
   "execution_count": 107,
   "metadata": {
    "collapsed": false
   },
   "outputs": [],
   "source": [
    "swa = prices[prices['Team']=='SWA']['Surname']\n",
    "po = [36,150,244,434]\n",
    "for i in po:\n",
    "    swa.pop(i)"
   ]
  },
  {
   "cell_type": "code",
   "execution_count": 108,
   "metadata": {
    "collapsed": false
   },
   "outputs": [],
   "source": [
    "swa_dic = {}\n",
    "for i in swa:\n",
    "    for index,row in prices.iterrows():\n",
    "        if(row['Team']=='SWA' and row['Surname']==i):\n",
    "            swa_dic[row['Surname'].encode('ascii','ignore')] = row['ID']"
   ]
  },
  {
   "cell_type": "code",
   "execution_count": 109,
   "metadata": {
    "collapsed": false
   },
   "outputs": [
    {
     "name": "stdout",
     "output_type": "stream",
     "text": [
      "Routledge\n",
      "Emnes\n",
      "Sigurdsson\n",
      "Fabianski\n",
      "Cork\n",
      "Naughton\n",
      "Amat\n",
      "Fer\n",
      "Gomis\n",
      "Dyer\n",
      "Britton\n",
      "Rangel\n",
      "Montero\n",
      "Fulton\n",
      "Barrow\n"
     ]
    }
   ],
   "source": [
    "for i in swa_dic:\n",
    "    print i\n",
    "    for index,row in points.iterrows():\n",
    "        if(row['Name']==i):\n",
    "            if(row['ID']==0):\n",
    "                points.set_value(index,'ID',swa_dic[i])\n",
    "            else:\n",
    "                print row"
   ]
  },
  {
   "cell_type": "code",
   "execution_count": 110,
   "metadata": {
    "collapsed": false
   },
   "outputs": [],
   "source": [
    "for index,row in points.iterrows(): #Taylor\n",
    "    if(row['Team']=='SWA' and row['Name']=='Taylor'):\n",
    "        if(row['ID']==0):\n",
    "            points.set_value(index,'ID',522)\n",
    "        else:\n",
    "            print row"
   ]
  },
  {
   "cell_type": "code",
   "execution_count": 111,
   "metadata": {
    "collapsed": false
   },
   "outputs": [],
   "source": [
    "for index,row in points.iterrows(): #Ki Sung-Yueng\n",
    "    if(row['Name']=='Ki Sung-Yueng'):\n",
    "        if(row['ID']==0):\n",
    "            points.set_value(index,'ID',291)\n",
    "        else:\n",
    "            print row"
   ]
  },
  {
   "cell_type": "code",
   "execution_count": 115,
   "metadata": {
    "collapsed": false
   },
   "outputs": [],
   "source": [
    "prices = prices.reset_index(drop=True) #Resetting index for deletion of Borja from \"prices\"\n",
    "prices = prices.drop(prices.index[[36]]) #dropping"
   ]
  },
  {
   "cell_type": "code",
   "execution_count": 116,
   "metadata": {
    "collapsed": false
   },
   "outputs": [],
   "source": [
    "for index,row in points.iterrows(): #Fernandez\n",
    "    if(row['PID']==584 and row['Team']=='SWA' and row['Year']>2013):\n",
    "        if(row['ID']==0):\n",
    "            points.set_value(index,'ID',179)\n",
    "        else:\n",
    "            print row"
   ]
  },
  {
   "cell_type": "markdown",
   "metadata": {},
   "source": [
    "# Sunderland"
   ]
  },
  {
   "cell_type": "code",
   "execution_count": 117,
   "metadata": {
    "collapsed": false
   },
   "outputs": [],
   "source": [
    "sur = ['Stryjek','Ndong','Watmore','Thomas Robson','Pickford','Mika','Matthews','Love','Lens','Kirchhoff','Khazri','Josh Robson','Gooch','Djilobodji','Denayer','Asoro'] #SUN\n",
    "for index,row in prices.iterrows():\n",
    "    if(row['Surname'] in sur and row['Team']=='SUN'):\n",
    "        prices.drop(index,inplace=True)"
   ]
  },
  {
   "cell_type": "code",
   "execution_count": 119,
   "metadata": {
    "collapsed": false
   },
   "outputs": [],
   "source": [
    "sun = prices[prices['Team']=='SUN']['Surname']\n",
    "po = [226,250]\n",
    "for i in po:\n",
    "    sun.pop(i)"
   ]
  },
  {
   "cell_type": "code",
   "execution_count": 120,
   "metadata": {
    "collapsed": false
   },
   "outputs": [],
   "source": [
    "sun_dic = {}\n",
    "for i in sun:\n",
    "    for index,row in prices.iterrows():\n",
    "        if(row['Team']=='SUN' and row['Surname']==i):\n",
    "            sun_dic[row['Surname'].encode('ascii','ignore')] = row['ID']"
   ]
  },
  {
   "cell_type": "code",
   "execution_count": 121,
   "metadata": {
    "collapsed": false
   },
   "outputs": [
    {
     "name": "stdout",
     "output_type": "stream",
     "text": [
      "McNair\n",
      "van Aanholt\n",
      "Mannone\n",
      "Borini\n",
      "Defoe\n",
      "Pienaar\n",
      "Rodwell\n",
      "Anichebe\n",
      "Cattermole\n",
      "Manquillo\n",
      "O'Shea\n",
      "Januzaj\n",
      "Larsson\n"
     ]
    }
   ],
   "source": [
    "for i in sun_dic:\n",
    "    print i\n",
    "    for index,row in points.iterrows():\n",
    "        if(row['Name']==i):\n",
    "            if(row['ID']==0):\n",
    "                points.set_value(index,'ID',sun_dic[i])\n",
    "            else:\n",
    "                print row"
   ]
  },
  {
   "cell_type": "code",
   "execution_count": 122,
   "metadata": {
    "collapsed": false
   },
   "outputs": [],
   "source": [
    "for index,row in points.iterrows(): #Jones\n",
    "    if(row['PID']==455 and row['Team']=='WBA' and row['Year']==2013):\n",
    "        if(row['ID']==0):\n",
    "            points.set_value(index,'ID',273)\n",
    "        else:\n",
    "            print row\n",
    "    if(row['PID']==428 and row['Team']=='SUN' and row['Year']==2014):\n",
    "        if(row['ID']==0):\n",
    "            points.set_value(index,'ID',273)\n",
    "        else:\n",
    "            print row\n",
    "    if(row['PID']==428 and row['Team']=='SUN' and row['Year']==2015):\n",
    "        if(row['ID']==0):\n",
    "            points.set_value(index,'ID',273)\n",
    "        else:\n",
    "            print row"
   ]
  },
  {
   "cell_type": "code",
   "execution_count": 125,
   "metadata": {
    "collapsed": false
   },
   "outputs": [],
   "source": [
    "prices = prices.reset_index(drop=True) #Resetting index for deletion of Kone from \"prices\"\n",
    "prices = prices.drop(prices.index[[242]]) #dropping"
   ]
  },
  {
   "cell_type": "markdown",
   "metadata": {},
   "source": [
    "# Crystal Palace"
   ]
  },
  {
   "cell_type": "code",
   "execution_count": 127,
   "metadata": {
    "collapsed": false
   },
   "outputs": [],
   "source": [
    "sur = ['Sako','Mandanda','Ladapo','Kaikai','Jonathan Benteke','Dreher','Boateng','Anderson'] #CRY\n",
    "for index,row in prices.iterrows():\n",
    "    if(row['Surname'] in sur and row['Team']=='CRY'):\n",
    "        prices.drop(index,inplace=True)"
   ]
  },
  {
   "cell_type": "code",
   "execution_count": 129,
   "metadata": {
    "collapsed": false
   },
   "outputs": [],
   "source": [
    "cry = prices[prices['Team']=='CRY']['Surname']\n",
    "po = [66,83,397,445]\n",
    "for i in po:\n",
    "    cry.pop(i)"
   ]
  },
  {
   "cell_type": "code",
   "execution_count": 130,
   "metadata": {
    "collapsed": false
   },
   "outputs": [],
   "source": [
    "cry_dic = {}\n",
    "for i in cry:\n",
    "    for index,row in prices.iterrows():\n",
    "        if(row['Team']=='CRY' and row['Surname']==i):\n",
    "            cry_dic[row['Surname'].encode('ascii','ignore')] = row['ID']"
   ]
  },
  {
   "cell_type": "code",
   "execution_count": 131,
   "metadata": {
    "collapsed": false
   },
   "outputs": [
    {
     "name": "stdout",
     "output_type": "stream",
     "text": [
      "Zaha\n",
      "Remy\n",
      "Mutch\n",
      "Jedinak\n",
      "Flamini\n",
      "Tomkins\n",
      "Wickham\n",
      "Puncheon\n",
      "Speroni\n",
      "McArthur\n",
      "Dann\n",
      "Ledley\n",
      "Delaney\n",
      "Kelly\n",
      "Lee Chung-yong\n",
      "Ward\n",
      "Hennessey\n",
      "Fryers\n",
      "Townsend\n",
      "Cabaye\n"
     ]
    }
   ],
   "source": [
    "for i in cry_dic:\n",
    "    print i\n",
    "    for index,row in points.iterrows():\n",
    "        if(row['Name']==i):                \n",
    "            if(row['ID']==0):\n",
    "                points.set_value(index,'ID',cry_dic[i])\n",
    "            else:\n",
    "                print row"
   ]
  },
  {
   "cell_type": "code",
   "execution_count": 133,
   "metadata": {
    "collapsed": true
   },
   "outputs": [],
   "source": [
    "for index,row in points.iterrows(): #Williams\n",
    "    if(row['Name']=='Williams' and row['Team']=='CRY'):\n",
    "        if(row['ID']==0):\n",
    "            points.set_value(index,'ID',564)\n",
    "        else:\n",
    "            print row"
   ]
  },
  {
   "cell_type": "code",
   "execution_count": 134,
   "metadata": {
    "collapsed": true
   },
   "outputs": [],
   "source": [
    "for index,row in points.iterrows(): #Campbell\n",
    "    if(row['Name']=='Campbell' and row['ID']==0):\n",
    "        if(row['ID']==0):\n",
    "            points.set_value(index,'ID',86)\n",
    "        else:\n",
    "            print row"
   ]
  },
  {
   "cell_type": "code",
   "execution_count": 135,
   "metadata": {
    "collapsed": false
   },
   "outputs": [],
   "source": [
    "for index,row in points.iterrows(): #Benteke\n",
    "    if(row['Name']=='Benteke'):\n",
    "        if(row['ID']==0):\n",
    "            points.set_value(index,'ID',106)\n",
    "        else:\n",
    "            print row"
   ]
  },
  {
   "cell_type": "code",
   "execution_count": 137,
   "metadata": {
    "collapsed": false
   },
   "outputs": [],
   "source": [
    "for index,row in points.iterrows(): #Souare\n",
    "    if(row['PID']==679 and row['Team']=='CRY'):\n",
    "        if(row['ID']==0):\n",
    "            points.set_value(index,'ID',504)\n",
    "        else:\n",
    "            print row"
   ]
  },
  {
   "cell_type": "markdown",
   "metadata": {},
   "source": [
    "# West Bromich Albion"
   ]
  },
  {
   "cell_type": "code",
   "execution_count": 138,
   "metadata": {
    "collapsed": false
   },
   "outputs": [],
   "source": [
    "sur = ['Wilson','Rose','Robson-Kanu','Nyom','McClean','Leko','Field'] #WBA\n",
    "for index,row in prices.iterrows():\n",
    "    if(row['Surname'] in sur and row['Team']=='WBA'):\n",
    "        prices.drop(index,inplace=True)"
   ]
  },
  {
   "cell_type": "code",
   "execution_count": 140,
   "metadata": {
    "collapsed": false
   },
   "outputs": [],
   "source": [
    "wba = prices[prices['Team']=='WBA']['Surname']\n",
    "po = [109,152,310,331,343,369]\n",
    "for i in po:\n",
    "    wba.pop(i)"
   ]
  },
  {
   "cell_type": "code",
   "execution_count": 141,
   "metadata": {
    "collapsed": false
   },
   "outputs": [],
   "source": [
    "wba_dic = {}\n",
    "for i in wba:\n",
    "    for index,row in prices.iterrows():\n",
    "        if(row['Team']=='WBA' and row['Surname']==i):\n",
    "            wba_dic[row['Surname'].encode('ascii','ignore')] = row['ID']"
   ]
  },
  {
   "cell_type": "code",
   "execution_count": 142,
   "metadata": {
    "collapsed": false
   },
   "outputs": [
    {
     "name": "stdout",
     "output_type": "stream",
     "text": [
      "Berahino\n",
      "Evans\n",
      "Pocognoli\n",
      "Galloway\n",
      "Brunt\n",
      "Yacob\n",
      "Myhill\n",
      "Chadli\n",
      "Foster\n",
      "Chester\n",
      "Gardner\n",
      "McManaman\n",
      "McAuley\n",
      "Gamboa\n",
      "Lambert\n"
     ]
    }
   ],
   "source": [
    "for i in wba_dic:\n",
    "    print i\n",
    "    for index,row in points.iterrows():\n",
    "        if(row['Name']==i):\n",
    "            if(row['ID']!=0):\n",
    "                print row\n",
    "            else:\n",
    "                points.set_value(index,'ID',wba_dic[i])"
   ]
  },
  {
   "cell_type": "code",
   "execution_count": 143,
   "metadata": {
    "collapsed": true
   },
   "outputs": [],
   "source": [
    "for index,row in points.iterrows(): #Phillips\n",
    "    if(row['Name']=='Phillips' and row['Team']=='QPR'):\n",
    "        if(row['ID']==0):\n",
    "            points.set_value(index,'ID',439)\n",
    "        else:\n",
    "            print row"
   ]
  },
  {
   "cell_type": "code",
   "execution_count": 144,
   "metadata": {
    "collapsed": true
   },
   "outputs": [],
   "source": [
    "for index,row in points.iterrows(): #Olsson\n",
    "    if(row['Name']=='Olsson' and row['Team']=='WBA'):\n",
    "        if(row['ID']==0):\n",
    "            points.set_value(index,'ID',417)\n",
    "        else:\n",
    "            print row"
   ]
  },
  {
   "cell_type": "code",
   "execution_count": 145,
   "metadata": {
    "collapsed": true
   },
   "outputs": [],
   "source": [
    "for index,row in points.iterrows(): #Morrison\n",
    "    if(row['Name']=='Morrison' and row['Team']=='WBA'):\n",
    "        if(row['ID']==0):\n",
    "            points.set_value(index,'ID',386)\n",
    "        else:\n",
    "            print row"
   ]
  },
  {
   "cell_type": "code",
   "execution_count": 146,
   "metadata": {
    "collapsed": true
   },
   "outputs": [],
   "source": [
    "for index,row in points.iterrows(): #Fletcher\n",
    "    if(row['Name']=='Fletcher' and row['Team']=='WBA'):\n",
    "        if(row['ID']==0):\n",
    "            points.set_value(index,'ID',188)\n",
    "        else:\n",
    "            print row\n",
    "    if(row['Name']=='Fletcher' and row['Team']=='MUN'):\n",
    "        if(row['ID']==0):\n",
    "            points.set_value(index,'ID',188)\n",
    "        else:\n",
    "            print row"
   ]
  },
  {
   "cell_type": "code",
   "execution_count": 147,
   "metadata": {
    "collapsed": true
   },
   "outputs": [],
   "source": [
    "for index,row in points.iterrows(): #Dawson\n",
    "    if(row['Name']=='Dawson' and row['Team']=='WBA'):\n",
    "        if(row['ID']==0):\n",
    "            points.set_value(index,'ID',136)\n",
    "        else:\n",
    "            print row"
   ]
  },
  {
   "cell_type": "code",
   "execution_count": 150,
   "metadata": {
    "collapsed": false
   },
   "outputs": [],
   "source": [
    "prices = prices.reset_index(drop=True) #Resetting index for deletion of Rondon from \"prices\"\n",
    "prices = prices.drop(prices.index[[356]]) #dropping"
   ]
  },
  {
   "cell_type": "markdown",
   "metadata": {},
   "source": [
    "# Leicester City"
   ]
  },
  {
   "cell_type": "code",
   "execution_count": 152,
   "metadata": {
    "collapsed": false
   },
   "outputs": [],
   "source": [
    "sur = ['Chilwell','Amartey','Fuchs','Gray','Inler','Kapustka','Mendy','Musa','Okazaki','Slimani','Zieler','Benalouane'] #LEI\n",
    "for index,row in prices.iterrows():\n",
    "    if(row['Surname'] in sur and row['Team']=='LEI'):\n",
    "        prices.drop(index,inplace=True)"
   ]
  },
  {
   "cell_type": "code",
   "execution_count": 154,
   "metadata": {
    "collapsed": false
   },
   "outputs": [],
   "source": [
    "lei = prices[prices['Team']=='LEI']['Surname']\n",
    "po = [193]\n",
    "for i in po:\n",
    "    lei.pop(i)"
   ]
  },
  {
   "cell_type": "code",
   "execution_count": 155,
   "metadata": {
    "collapsed": false
   },
   "outputs": [],
   "source": [
    "lei_dic = {}\n",
    "for i in lei:\n",
    "    for index,row in prices.iterrows():\n",
    "        if(row['Team']=='LEI' and row['Surname']==i):\n",
    "            lei_dic[row['Surname'].encode('ascii','ignore')] = row['ID']"
   ]
  },
  {
   "cell_type": "code",
   "execution_count": 156,
   "metadata": {
    "collapsed": false
   },
   "outputs": [
    {
     "name": "stdout",
     "output_type": "stream",
     "text": [
      "Schlupp\n",
      "King\n",
      "Vardy\n",
      "de Laet\n",
      "Albrighton\n",
      "Drinkwater\n",
      "Schmeichel\n",
      "Hamer\n",
      "Ulloa\n",
      "Huth\n",
      "Morgan\n",
      "Mahrez\n",
      "Wasilewski\n",
      "Simpson\n"
     ]
    }
   ],
   "source": [
    "for i in lei_dic:\n",
    "    print i\n",
    "    for index,row in points.iterrows():\n",
    "        if(row['Name']==i):\n",
    "            if(row['ID']!=0):\n",
    "                print row\n",
    "            else:\n",
    "                points.set_value(index,'ID',lei_dic[i])"
   ]
  },
  {
   "cell_type": "code",
   "execution_count": 159,
   "metadata": {
    "collapsed": true
   },
   "outputs": [],
   "source": [
    "prices = prices.reset_index(drop=True) #Resetting index for deletion of Luis Hernandez from \"prices\"\n",
    "prices = prices.drop(prices.index[[188]]) #dropping"
   ]
  },
  {
   "cell_type": "markdown",
   "metadata": {},
   "source": [
    "# Stoke City "
   ]
  },
  {
   "cell_type": "code",
   "execution_count": 161,
   "metadata": {
    "collapsed": true
   },
   "outputs": [],
   "source": [
    "sur = ['Sobhi','Shaqiri','Ngoy','Martins Indi','Joselu','Imbula','Haugaard','Grant','Afellay'] #STK\n",
    "for index,row in prices.iterrows():\n",
    "    if(row['Surname'] in sur and row['Team']=='STK'):\n",
    "        prices.drop(index,inplace=True)"
   ]
  },
  {
   "cell_type": "code",
   "execution_count": 163,
   "metadata": {
    "collapsed": true
   },
   "outputs": [],
   "source": [
    "stk = prices[prices['Team']=='STK']['Surname']\n",
    "po = [385,209]\n",
    "for i in po:\n",
    "    stk.pop(i)"
   ]
  },
  {
   "cell_type": "code",
   "execution_count": 164,
   "metadata": {
    "collapsed": false
   },
   "outputs": [],
   "source": [
    "stk_dic = {}\n",
    "for i in stk:\n",
    "    for index,row in prices.iterrows():\n",
    "        if(row['Team']=='STK' and row['Surname']==i):\n",
    "            stk_dic[row['Surname'].encode('ascii','ignore')] = row['ID']"
   ]
  },
  {
   "cell_type": "code",
   "execution_count": 165,
   "metadata": {
    "collapsed": false
   },
   "outputs": [
    {
     "name": "stdout",
     "output_type": "stream",
     "text": [
      "Bony\n",
      "Arnautovic\n",
      "Muniesa\n",
      "Crouch\n",
      "Wollscheid\n",
      "Butland\n",
      "Shawcross\n",
      "Given\n",
      "Bardsley\n",
      "Adam\n",
      "Ireland\n",
      "Pieters\n",
      "Cameron\n",
      "Allen\n",
      "Whelan\n",
      "Diouf\n",
      "Bojan\n",
      "Walters\n"
     ]
    }
   ],
   "source": [
    "for i in stk_dic:\n",
    "    print i\n",
    "    for index,row in points.iterrows():\n",
    "        if(row['Name']==i):\n",
    "            if(row['ID']!=0):\n",
    "                print row\n",
    "            else:\n",
    "                points.set_value(index,'ID',stk_dic[i])"
   ]
  },
  {
   "cell_type": "code",
   "execution_count": 166,
   "metadata": {
    "collapsed": true
   },
   "outputs": [],
   "source": [
    "for index,row in points.iterrows(): #Teixeira\n",
    "    if(row['Name']=='Teixeira' and row['Team']=='STK'):\n",
    "        if(row['ID']==0):\n",
    "            points.set_value(index,'ID',523)\n",
    "        else:\n",
    "            print row"
   ]
  },
  {
   "cell_type": "code",
   "execution_count": 167,
   "metadata": {
    "collapsed": true
   },
   "outputs": [],
   "source": [
    "for index,row in points.iterrows(): #Johnson\n",
    "    if(row['Name']=='Johnson' and row['Team']=='LIV'):\n",
    "        if(row['ID']==0):\n",
    "            points.set_value(index,'ID',271)\n",
    "        else:\n",
    "            print row"
   ]
  },
  {
   "cell_type": "markdown",
   "metadata": {},
   "source": [
    "Mapping for 15 teams done. :D"
   ]
  },
  {
   "cell_type": "markdown",
   "metadata": {},
   "source": [
    "# Watford"
   ]
  },
  {
   "cell_type": "code",
   "execution_count": 211,
   "metadata": {
    "collapsed": false
   },
   "outputs": [],
   "source": [
    "sur = ['Success','Watson','Pereyra','Paredes','Okaka','Kenedy','Kabasele','Ighalo','Holebas','Hoban','Gomes','Deeney','Cathcart','Britos','Berghuis','Behrami','Anya','Amrabat','Abdi'] #WAT\n",
    "for index,row in prices.iterrows():\n",
    "    if(row['Surname'] in sur and row['Team']=='WAT'):\n",
    "        prices.drop(index,inplace=True)"
   ]
  },
  {
   "cell_type": "code",
   "execution_count": 214,
   "metadata": {
    "collapsed": false
   },
   "outputs": [],
   "source": [
    "wat = prices[prices['Team']=='WAT']['Surname']\n",
    "po = [124,125,175,314,327,378,431,363]\n",
    "for i in po:\n",
    "    wat.pop(i)"
   ]
  },
  {
   "cell_type": "code",
   "execution_count": 216,
   "metadata": {
    "collapsed": false
   },
   "outputs": [],
   "source": [
    "wat_dic = {}\n",
    "for i in wat:\n",
    "    for index,row in prices.iterrows():\n",
    "        if(row['Team']=='WAT' and row['Surname']==i):\n",
    "            wat_dic[row['Surname'].encode('ascii','ignore')] = row['ID']"
   ]
  },
  {
   "cell_type": "code",
   "execution_count": 217,
   "metadata": {
    "collapsed": false
   },
   "outputs": [
    {
     "name": "stdout",
     "output_type": "stream",
     "text": [
      "Kaboul\n",
      "Vydra\n",
      "Mariappa\n",
      "Janmaat\n",
      "Capoue\n",
      "Pantilimon\n"
     ]
    }
   ],
   "source": [
    "for i in wat_dic:\n",
    "    print i\n",
    "    for index,row in points.iterrows():\n",
    "        if(row['Name']==i):\n",
    "            if(row['ID']!=0):\n",
    "                print row\n",
    "            else:\n",
    "                points.set_value(index,'ID',wat_dic[i])"
   ]
  },
  {
   "cell_type": "code",
   "execution_count": 219,
   "metadata": {
    "collapsed": false
   },
   "outputs": [],
   "source": [
    "for index,row in points.iterrows(): #Sinclair\n",
    "    if(row['Name']=='Sinclair' and row['PID']==699):\n",
    "        if(row['ID']==0):\n",
    "            points.set_value(index,'ID',495)\n",
    "        else:\n",
    "            print row"
   ]
  },
  {
   "cell_type": "code",
   "execution_count": 222,
   "metadata": {
    "collapsed": false
   },
   "outputs": [],
   "source": [
    "for index,row in points.iterrows(): #Guediora\n",
    "    if(row['PID']==583 and row['Team']=='CRY' and row['Year']==2013):\n",
    "        if(row['ID']==0):\n",
    "            points.set_value(index,'ID',227)\n",
    "        else:\n",
    "            print row\n",
    "    if(row['PID']==123 and row['Team']=='CRY' and row['Year']==2014):\n",
    "        if(row['ID']==0):\n",
    "            points.set_value(index,'ID',227)\n",
    "        else:\n",
    "            print row\n",
    "    if(row['PID']==123 and row['Team']=='CRY' and row['Year']==2015):\n",
    "        if(row['ID']==0):\n",
    "            points.set_value(index,'ID',227)\n",
    "        else:\n",
    "            print row"
   ]
  },
  {
   "cell_type": "code",
   "execution_count": 225,
   "metadata": {
    "collapsed": true
   },
   "outputs": [],
   "source": [
    "prices = prices.reset_index(drop=True) #Resetting index for deletion of 6 players from \"prices\"\n",
    "prices = prices.drop(prices.index[[115,116,291,302,351,402]]) #dropping"
   ]
  },
  {
   "cell_type": "markdown",
   "metadata": {},
   "source": [
    "# Burnley"
   ]
  },
  {
   "cell_type": "code",
   "execution_count": 274,
   "metadata": {
    "collapsed": false
   },
   "outputs": [],
   "source": [
    "sur = ['Pope','Defour','Tarkowski','Robinson','O\\'Neill','Long','Hennings','Hendrick','Gudmundsson','Gray','Darikwa','Bamford'] #BUR\n",
    "for index,row in prices.iterrows():\n",
    "    if(row['Surname'] in sur and row['Team']=='BUR'):\n",
    "        prices.drop(index,inplace=True)"
   ]
  },
  {
   "cell_type": "code",
   "execution_count": 265,
   "metadata": {
    "collapsed": false
   },
   "outputs": [],
   "source": [
    "bur = prices[prices['Team']=='BUR']['Surname']\n",
    "po = [194,381]\n",
    "for i in po:\n",
    "    bur.pop(i)"
   ]
  },
  {
   "cell_type": "code",
   "execution_count": 266,
   "metadata": {
    "collapsed": false
   },
   "outputs": [],
   "source": [
    "bur_dic = {}\n",
    "for i in bur:\n",
    "    for index,row in prices.iterrows():\n",
    "        if(row['Team']=='BUR' and row['Surname']==i):\n",
    "            bur_dic[row['Surname'].encode('ascii','ignore')] = row['ID']"
   ]
  },
  {
   "cell_type": "code",
   "execution_count": 267,
   "metadata": {
    "collapsed": false
   },
   "outputs": [
    {
     "name": "stdout",
     "output_type": "stream",
     "text": [
      "Mee\n",
      "Defour\n",
      "Pope\n",
      "Boyd\n",
      "Arfield\n",
      "Barnes\n",
      "Flanagan\n",
      "Heaton\n",
      "Marney\n",
      "Vokes\n",
      "Ulvestad\n",
      "Lafferty\n",
      "Kightly\n",
      "Lowton\n",
      "Keane\n",
      "Jutkiewicz\n"
     ]
    }
   ],
   "source": [
    "for i in bur_dic:\n",
    "    print i\n",
    "    for index,row in points.iterrows():\n",
    "        if(row['Name']==i):\n",
    "            if(row['ID']!=0):\n",
    "                print row\n",
    "            else:\n",
    "                points.set_value(index,'ID',bur_dic[i])"
   ]
  },
  {
   "cell_type": "code",
   "execution_count": 269,
   "metadata": {
    "collapsed": false
   },
   "outputs": [],
   "source": [
    "for index,row in points.iterrows(): #Ward\n",
    "    if(row['Name']=='Ward' and row['Team']=='BUR'):\n",
    "            points.set_value(index,'ID',553)"
   ]
  },
  {
   "cell_type": "code",
   "execution_count": 270,
   "metadata": {
    "collapsed": true
   },
   "outputs": [],
   "source": [
    "for index,row in points.iterrows(): #Jones\n",
    "    if(row['Name']=='Jones' and row['Team']=='BUR'):\n",
    "        if(row['ID']==0):\n",
    "            points.set_value(index,'ID',274)\n",
    "        else:\n",
    "            print row"
   ]
  },
  {
   "cell_type": "markdown",
   "metadata": {},
   "source": [
    "# Hull City"
   ]
  },
  {
   "cell_type": "code",
   "execution_count": 314,
   "metadata": {
    "collapsed": false
   },
   "outputs": [],
   "source": [
    "sur = ['Weir','Tymon','Olley','Odubajo','Mbokani','Maloney','Luer','Lenihan','Kuciak','Keane','Hinchcliffe','Henriksen','Diomande','Bowen','Clucas','Clackstone'] #HUL\n",
    "for index,row in prices.iterrows():\n",
    "    if(row['Surname'] in sur and row['Team']=='HUL'):\n",
    "        prices.drop(index,inplace=True)"
   ]
  },
  {
   "cell_type": "code",
   "execution_count": 318,
   "metadata": {
    "collapsed": false
   },
   "outputs": [],
   "source": [
    "hul = prices[prices['Team']=='HUL']['Surname']\n",
    "po = [111,175,94,97]\n",
    "for i in po:\n",
    "    hul.pop(i)"
   ]
  },
  {
   "cell_type": "code",
   "execution_count": 320,
   "metadata": {
    "collapsed": false
   },
   "outputs": [],
   "source": [
    "hul_dic = {}\n",
    "for i in hul:\n",
    "    for index,row in prices.iterrows():\n",
    "        if(row['Team']=='HUL' and row['Surname']==i):\n",
    "            hul_dic[row['Surname'].encode('ascii','ignore')] = row['ID']"
   ]
  },
  {
   "cell_type": "code",
   "execution_count": 321,
   "metadata": {
    "collapsed": false
   },
   "outputs": [
    {
     "name": "stdout",
     "output_type": "stream",
     "text": [
      "Livermore\n",
      "Maguire\n",
      "Bruce\n",
      "Marshall\n",
      "Snodgrass\n",
      "Mason\n",
      "McGregor\n",
      "Meyler\n",
      "Huddlestone\n",
      "Robertson\n",
      "Jakupovic\n",
      "Elmohamady\n"
     ]
    }
   ],
   "source": [
    "for i in hul_dic:\n",
    "    print i\n",
    "    for index,row in points.iterrows():\n",
    "        if(row['Name']==i):\n",
    "            if(row['ID']!=0):\n",
    "                print row\n",
    "            else:\n",
    "                points.set_value(index,'ID',hul_dic[i])"
   ]
  },
  {
   "cell_type": "code",
   "execution_count": 322,
   "metadata": {
    "collapsed": true
   },
   "outputs": [],
   "source": [
    "for index,row in points.iterrows(): #Davies\n",
    "    if(row['Name']=='Davies' and row['Team']=='HUL'):\n",
    "        if(row['ID']==0):\n",
    "            points.set_value(index,'ID',133)\n",
    "        else:\n",
    "            print row"
   ]
  },
  {
   "cell_type": "code",
   "execution_count": 323,
   "metadata": {
    "collapsed": true
   },
   "outputs": [],
   "source": [
    "for index,row in points.iterrows(): #Dawson\n",
    "    if(row['Name']=='Dawson' and row['ID']==0):\n",
    "        if(row['ID']==0):\n",
    "            points.set_value(index,'ID',137)\n",
    "        else:\n",
    "            print row"
   ]
  },
  {
   "cell_type": "code",
   "execution_count": 329,
   "metadata": {
    "collapsed": false
   },
   "outputs": [],
   "source": [
    "for index,row in points.iterrows(): #Hernandez\n",
    "    if(row['Team']=='HUL' and row['PID']==594 and row['Year']>2013):\n",
    "        if(row['ID']==0):\n",
    "            points.set_value(index,'ID',241)\n",
    "        else:\n",
    "            print row"
   ]
  },
  {
   "cell_type": "code",
   "execution_count": 331,
   "metadata": {
    "collapsed": false
   },
   "outputs": [],
   "source": [
    "for index,row in points.iterrows(): #Diame\n",
    "    if(row['Team']=='WHU' and row['PID']==490 and row['Year']==2013):\n",
    "        if(row['ID']==0):\n",
    "            points.set_value(index,'ID',154)\n",
    "        else:\n",
    "            print row\n",
    "    if(row['PID']==511 and row['Year']>2013):\n",
    "        if(row['ID']==0):\n",
    "            points.set_value(index,'ID',154)\n",
    "        else:\n",
    "            print row"
   ]
  },
  {
   "cell_type": "markdown",
   "metadata": {},
   "source": [
    "# Middlesbrough"
   ]
  },
  {
   "cell_type": "code",
   "execution_count": 366,
   "metadata": {
    "collapsed": false
   },
   "outputs": [],
   "source": [
    "sur = ['Stuani','Rhodes','Reach','Nsue','Leadbitter','Konstantopoulos','Gibson','Fry','Friend','Forshaw','Fischer','de Sart','de Roon','De Pena','Clayton','Bernardo','Baptiste','Ayala','Adomah'] #MID\n",
    "for index,row in prices.iterrows():\n",
    "    if(row['Surname'] in sur and row['Team']=='MID'):\n",
    "        prices.drop(index,inplace=True)"
   ]
  },
  {
   "cell_type": "code",
   "execution_count": 370,
   "metadata": {
    "collapsed": true
   },
   "outputs": [],
   "source": [
    "mid = prices[prices['Team']=='MID']['Surname']\n",
    "po = [26,305,361,366]\n",
    "for i in po:\n",
    "    mid.pop(i)"
   ]
  },
  {
   "cell_type": "code",
   "execution_count": 372,
   "metadata": {
    "collapsed": true
   },
   "outputs": [],
   "source": [
    "mid_dic = {}\n",
    "for i in mid:\n",
    "    for index,row in prices.iterrows():\n",
    "        if(row['Team']=='MID' and row['Surname']==i):\n",
    "            mid_dic[row['Surname'].encode('ascii','ignore')] = row['ID']"
   ]
  },
  {
   "cell_type": "code",
   "execution_count": 373,
   "metadata": {
    "collapsed": false
   },
   "outputs": [
    {
     "name": "stdout",
     "output_type": "stream",
     "text": [
      "Fabio\n",
      "Guzan\n",
      "Downing\n",
      "Chambers\n",
      "Negredo\n",
      "Nugent\n"
     ]
    }
   ],
   "source": [
    "for i in mid_dic:\n",
    "    print i\n",
    "    for index,row in points.iterrows():\n",
    "        if(row['Name']==i):\n",
    "            if(row['ID']!=0):\n",
    "                print row\n",
    "            else:\n",
    "                points.set_value(index,'ID',mid_dic[i])"
   ]
  },
  {
   "cell_type": "code",
   "execution_count": 379,
   "metadata": {
    "collapsed": false
   },
   "outputs": [],
   "source": [
    "for index,row in points.iterrows(): #Valdes\n",
    "    if(row['Team']=='MUN' and row['PID']==654 and row['Year']>2013):\n",
    "        if(row['ID']==0):\n",
    "            points.set_value(index,'ID',535)\n",
    "        else:\n",
    "            print row"
   ]
  },
  {
   "cell_type": "code",
   "execution_count": 381,
   "metadata": {
    "collapsed": false
   },
   "outputs": [],
   "source": [
    "for index,row in points.iterrows(): #Ramirez\n",
    "    if(row['Team']=='SOU' and row['PID']==339 and row['Year']==2013):\n",
    "        if(row['ID']==0):\n",
    "            points.set_value(index,'ID',451)\n",
    "        else:\n",
    "            print row\n",
    "    if(row['PID']==352 and row['Year']>2013):\n",
    "        if(row['ID']==0):\n",
    "            points.set_value(index,'ID',451)\n",
    "        else:\n",
    "            print row"
   ]
  },
  {
   "cell_type": "code",
   "execution_count": 384,
   "metadata": {
    "collapsed": true
   },
   "outputs": [],
   "source": [
    "prices = prices.reset_index(drop=True) #Resetting index for deletion of 2 players from \"prices\"\n",
    "prices = prices.drop(prices.index[[22,311]]) #dropping"
   ]
  },
  {
   "cell_type": "markdown",
   "metadata": {},
   "source": [
    "# Bournemouth"
   ]
  },
  {
   "cell_type": "code",
   "execution_count": 424,
   "metadata": {
    "collapsed": false
   },
   "outputs": [],
   "source": [
    "sur = ['Surman','Stanislas','Rantie','Pugh','O\\'Kane','Mousset','Mings','MacDonald','King','Hyndman','Gradel','Grabban','Fraser','Francis','Federici','Daniels','Cook','Callum Wilson','Arter','Afobe'] #BOU\n",
    "for index,row in prices.iterrows():\n",
    "    if(row['Surname'] in sur and row['Team']=='BOU'):\n",
    "        prices.drop(index,inplace=True)"
   ]
  },
  {
   "cell_type": "code",
   "execution_count": 428,
   "metadata": {
    "collapsed": true
   },
   "outputs": [],
   "source": [
    "prices = prices.reset_index(drop=True) #Resetting index for deletion of Adam Smith from \"prices\"\n",
    "prices = prices.drop(prices.index[[273]]) #dropping"
   ]
  },
  {
   "cell_type": "code",
   "execution_count": 431,
   "metadata": {
    "collapsed": true
   },
   "outputs": [],
   "source": [
    "bou = prices[prices['Team']=='BOU']['Surname']\n",
    "po = [3,191]\n",
    "for i in po:\n",
    "    bou.pop(i)"
   ]
  },
  {
   "cell_type": "code",
   "execution_count": 433,
   "metadata": {
    "collapsed": false
   },
   "outputs": [],
   "source": [
    "bou_dic = {}\n",
    "for i in bou:\n",
    "    for index,row in prices.iterrows():\n",
    "        if(row['Team']=='BOU' and row['Surname']==i):\n",
    "            bou_dic[row['Surname'].encode('ascii','ignore')] = row['ID']"
   ]
  },
  {
   "cell_type": "code",
   "execution_count": 434,
   "metadata": {
    "collapsed": false
   },
   "outputs": [
    {
     "name": "stdout",
     "output_type": "stream",
     "text": [
      "Smith\n",
      "Gosling\n",
      "Boruc\n",
      "Ibe\n",
      "Wilshere\n"
     ]
    }
   ],
   "source": [
    "for i in bou_dic:\n",
    "    print i\n",
    "    for index,row in points.iterrows():\n",
    "        if(row['Name']==i):\n",
    "            if(row['ID']!=0):\n",
    "                print row\n",
    "            else:\n",
    "                points.set_value(index,'ID',bou_dic[i])"
   ]
  },
  {
   "cell_type": "code",
   "execution_count": 435,
   "metadata": {
    "collapsed": true
   },
   "outputs": [],
   "source": [
    "for index,row in points.iterrows(): #Marc Wilson\n",
    "    if(row['Team']=='STK' and row['Name']=='Wilson'):\n",
    "        if(row['ID']==0):\n",
    "            points.set_value(index,'ID',344)\n",
    "        else:\n",
    "            print row"
   ]
  },
  {
   "cell_type": "code",
   "execution_count": 438,
   "metadata": {
    "collapsed": false
   },
   "outputs": [],
   "source": [
    "for index,row in points.iterrows(): #Ake\n",
    "    if(row['Team']=='CHE' and row['PID']==86 and row['Year']==2013):\n",
    "        if(row['ID']==0):\n",
    "            points.set_value(index,'ID',9)\n",
    "        else:\n",
    "            print row\n",
    "    if(row['PID']==83 and row['Year']>2013 and row['Team']=='CHE'):\n",
    "        if(row['ID']==0):\n",
    "            points.set_value(index,'ID',9)\n",
    "        else:\n",
    "            print row"
   ]
  },
  {
   "cell_type": "markdown",
   "metadata": {},
   "source": [
    "#### End of All Teams."
   ]
  },
  {
   "cell_type": "code",
   "execution_count": 475,
   "metadata": {
    "collapsed": false
   },
   "outputs": [],
   "source": [
    "for index,row in points.iterrows(): #Making all '-'s zero in points_df\n",
    "    if(str(row['TP ']).isdigit()==False and row['TP ']>0):\n",
    "        points.set_value(index,'TP ',0)"
   ]
  },
  {
   "cell_type": "code",
   "execution_count": 539,
   "metadata": {
    "collapsed": false
   },
   "outputs": [],
   "source": [
    "for i in range(1,115,1): #Initialising the game weeks in prices_df\n",
    "    prices[str(i)] = '-'"
   ]
  },
  {
   "cell_type": "code",
   "execution_count": 543,
   "metadata": {
    "collapsed": false
   },
   "outputs": [],
   "source": [
    "for index,row in points.iterrows(): #Assigning points to players in prices_df\n",
    "    if(row['ID']!=0):\n",
    "        for i,r in prices.iterrows():\n",
    "            if(r['ID']==row['ID']):\n",
    "                game_week = row['GW2']+(row['Year']-2013)*38\n",
    "                p = row['TP ']\n",
    "                prices.set_value(i,str(game_week),p)\n",
    "                break"
   ]
  },
  {
   "cell_type": "code",
   "execution_count": 561,
   "metadata": {
    "collapsed": false
   },
   "outputs": [],
   "source": [
    "prices = prices.reset_index(drop=True) #Making indexes continuous"
   ]
  },
  {
   "cell_type": "markdown",
   "metadata": {},
   "source": [
    "Now, we will make some new features to find some patterns or trends in the data."
   ]
  },
  {
   "cell_type": "code",
   "execution_count": 551,
   "metadata": {
    "collapsed": false
   },
   "outputs": [],
   "source": [
    "prices['PPM'] = -1.0 #Points_per_match\n",
    "for index,row in prices.iterrows():\n",
    "    matches = 0.0\n",
    "    poo = 0.0\n",
    "    for i in range(1,115,1):\n",
    "        if(row[str(i)]!='-'):\n",
    "            matches = matches + 1\n",
    "            poo = poo + row[str(i)]\n",
    "    if(matches==0.0):\n",
    "        print row\n",
    "    else:\n",
    "        prices.set_value(index,'PPM',float(poo/matches))"
   ]
  },
  {
   "cell_type": "code",
   "execution_count": 1091,
   "metadata": {
    "collapsed": true
   },
   "outputs": [],
   "source": [
    "prices['Matches_2013'] = 0 #Matches played in 2013, 2014 and 2015\n",
    "for index,row in prices.iterrows():\n",
    "    matches = 0\n",
    "    for i in range(1,39,1):\n",
    "        if(row[str(i)]!='-'):\n",
    "            matches = matches + 1\n",
    "    prices.set_value(index,'Matches_2013',matches)\n",
    "prices['Matches_2014'] = 0\n",
    "for index,row in prices.iterrows():\n",
    "    matches = 0\n",
    "    for i in range(39,77,1):\n",
    "        if(row[str(i)]!='-'):\n",
    "            matches = matches + 1\n",
    "    prices.set_value(index,'Matches_2014',matches)\n",
    "prices['Matches_2015'] = 0\n",
    "for index,row in prices.iterrows():\n",
    "    matches = 0\n",
    "    for i in range(77,115,1):\n",
    "        if(row[str(i)]!='-'):\n",
    "            matches = matches + 1\n",
    "    prices.set_value(index,'Matches_2015',matches)"
   ]
  },
  {
   "cell_type": "code",
   "execution_count": 1092,
   "metadata": {
    "collapsed": false
   },
   "outputs": [],
   "source": [
    "prices['Points_2013'] = 0 #Points obtained in 2013, 2014 and 2015\n",
    "for index,row in prices.iterrows():\n",
    "    poo = 0\n",
    "    for i in range(1,39,1):\n",
    "        if(row[str(i)]!='-'):\n",
    "            poo = poo + row[str(i)]\n",
    "    prices.set_value(index,'Points_2013',poo)\n",
    "prices['Points_2014'] = 0\n",
    "for index,row in prices.iterrows():\n",
    "    poo = 0\n",
    "    for i in range(39,77,1):\n",
    "        if(row[str(i)]!='-'):\n",
    "            poo = poo + row[str(i)]\n",
    "    prices.set_value(index,'Points_2014',poo)\n",
    "prices['Points_2015'] = 0\n",
    "for index,row in prices.iterrows():\n",
    "    poo = 0\n",
    "    for i in range(77,115,1):\n",
    "        if(row[str(i)]!='-'):\n",
    "            poo = poo + row[str(i)]\n",
    "    prices.set_value(index,'Points_2015',poo)"
   ]
  },
  {
   "cell_type": "code",
   "execution_count": 1095,
   "metadata": {
    "collapsed": false
   },
   "outputs": [],
   "source": [
    "prices['Matches_2016'] = 0\n",
    "for index,row in prices.iterrows():\n",
    "    if(row['Matches_2015']==0):\n",
    "        if(row['Matches_2014']==0):\n",
    "            lastmat = row['Matches_2013']\n",
    "        else:\n",
    "            lastmat = row['Matches_2014']\n",
    "    else:\n",
    "        lastmat = row['Matches_2015']\n",
    "    prices.set_value(index,'Matches_2016',lastmat)"
   ]
  },
  {
   "cell_type": "code",
   "execution_count": 1097,
   "metadata": {
    "collapsed": true
   },
   "outputs": [],
   "source": [
    "prices['Points_2016'] = -1"
   ]
  },
  {
   "cell_type": "markdown",
   "metadata": {},
   "source": [
    "## ARIMA Modeling"
   ]
  },
  {
   "cell_type": "code",
   "execution_count": 838,
   "metadata": {
    "collapsed": true
   },
   "outputs": [],
   "source": [
    "from statsmodels.tsa.stattools import adfuller\n",
    "from statsmodels.tsa.stattools import acf,pacf\n",
    "from statsmodels.tsa.arima_model import ARIMA\n",
    "def iszero(a):\n",
    "    if(a<10):\n",
    "        x = '0'+str(a)\n",
    "    else:\n",
    "        x = str(a)\n",
    "    return x\n",
    "def dat(a):\n",
    "    m = [31,28,31,30,31,30,31,31,30,31,30,31]\n",
    "    e1 = 0\n",
    "    e2 = 0\n",
    "    i = 0\n",
    "    while(a!=0):\n",
    "        if(a>m[i]):\n",
    "            a = a - m[i]\n",
    "            i = i + 1\n",
    "        else:\n",
    "            break\n",
    "    return '1999-%s-%s 00:00:00'%(iszero(i+1),iszero(a))"
   ]
  },
  {
   "cell_type": "code",
   "execution_count": 616,
   "metadata": {
    "collapsed": false
   },
   "outputs": [
    {
     "data": {
      "text/html": [
       "<div>\n",
       "<table border=\"1\" class=\"dataframe\">\n",
       "  <thead>\n",
       "    <tr style=\"text-align: right;\">\n",
       "      <th></th>\n",
       "      <th>FirstName</th>\n",
       "      <th>Surname</th>\n",
       "      <th>Cost</th>\n",
       "      <th>PPM</th>\n",
       "    </tr>\n",
       "  </thead>\n",
       "  <tbody>\n",
       "    <tr>\n",
       "      <th>187</th>\n",
       "      <td>Sadio</td>\n",
       "      <td>ManÃ©</td>\n",
       "      <td>9.0</td>\n",
       "      <td>6.850000</td>\n",
       "    </tr>\n",
       "    <tr>\n",
       "      <th>280</th>\n",
       "      <td>Daniel</td>\n",
       "      <td>Sturridge</td>\n",
       "      <td>10.0</td>\n",
       "      <td>6.846154</td>\n",
       "    </tr>\n",
       "    <tr>\n",
       "      <th>70</th>\n",
       "      <td>Philippe</td>\n",
       "      <td>Coutinho</td>\n",
       "      <td>8.1</td>\n",
       "      <td>5.820000</td>\n",
       "    </tr>\n",
       "    <tr>\n",
       "      <th>169</th>\n",
       "      <td>Adam</td>\n",
       "      <td>Lallana</td>\n",
       "      <td>7.1</td>\n",
       "      <td>4.944444</td>\n",
       "    </tr>\n",
       "    <tr>\n",
       "      <th>215</th>\n",
       "      <td>Alberto</td>\n",
       "      <td>Moreno</td>\n",
       "      <td>4.7</td>\n",
       "      <td>4.785714</td>\n",
       "    </tr>\n",
       "    <tr>\n",
       "      <th>63</th>\n",
       "      <td>Nathaniel</td>\n",
       "      <td>Clyne</td>\n",
       "      <td>5.5</td>\n",
       "      <td>4.768421</td>\n",
       "    </tr>\n",
       "    <tr>\n",
       "      <th>209</th>\n",
       "      <td>Simon</td>\n",
       "      <td>Mignolet</td>\n",
       "      <td>5.0</td>\n",
       "      <td>4.644860</td>\n",
       "    </tr>\n",
       "    <tr>\n",
       "      <th>134</th>\n",
       "      <td>Jordan</td>\n",
       "      <td>Henderson</td>\n",
       "      <td>6.4</td>\n",
       "      <td>4.641509</td>\n",
       "    </tr>\n",
       "    <tr>\n",
       "      <th>193</th>\n",
       "      <td>Lazar</td>\n",
       "      <td>Markovic</td>\n",
       "      <td>5.4</td>\n",
       "      <td>4.500000</td>\n",
       "    </tr>\n",
       "    <tr>\n",
       "      <th>16</th>\n",
       "      <td>Mario</td>\n",
       "      <td>Balotelli</td>\n",
       "      <td>6.3</td>\n",
       "      <td>4.300000</td>\n",
       "    </tr>\n",
       "    <tr>\n",
       "      <th>181</th>\n",
       "      <td>Dejan</td>\n",
       "      <td>Lovren</td>\n",
       "      <td>4.9</td>\n",
       "      <td>4.271605</td>\n",
       "    </tr>\n",
       "    <tr>\n",
       "      <th>47</th>\n",
       "      <td>Emre</td>\n",
       "      <td>Can</td>\n",
       "      <td>4.8</td>\n",
       "      <td>4.250000</td>\n",
       "    </tr>\n",
       "    <tr>\n",
       "      <th>259</th>\n",
       "      <td>Mamadou</td>\n",
       "      <td>Sakho</td>\n",
       "      <td>4.8</td>\n",
       "      <td>3.980000</td>\n",
       "    </tr>\n",
       "    <tr>\n",
       "      <th>141</th>\n",
       "      <td>Danny</td>\n",
       "      <td>Ings</td>\n",
       "      <td>5.6</td>\n",
       "      <td>3.971429</td>\n",
       "    </tr>\n",
       "    <tr>\n",
       "      <th>211</th>\n",
       "      <td>James</td>\n",
       "      <td>Milner</td>\n",
       "      <td>6.5</td>\n",
       "      <td>3.652174</td>\n",
       "    </tr>\n",
       "    <tr>\n",
       "      <th>183</th>\n",
       "      <td>Leiva</td>\n",
       "      <td>Lucas</td>\n",
       "      <td>4.4</td>\n",
       "      <td>3.014925</td>\n",
       "    </tr>\n",
       "  </tbody>\n",
       "</table>\n",
       "</div>"
      ],
      "text/plain": [
       "     FirstName    Surname  Cost       PPM\n",
       "187      Sadio      ManÃ©   9.0  6.850000\n",
       "280     Daniel  Sturridge  10.0  6.846154\n",
       "70    Philippe   Coutinho   8.1  5.820000\n",
       "169       Adam    Lallana   7.1  4.944444\n",
       "215    Alberto     Moreno   4.7  4.785714\n",
       "63   Nathaniel      Clyne   5.5  4.768421\n",
       "209      Simon   Mignolet   5.0  4.644860\n",
       "134     Jordan  Henderson   6.4  4.641509\n",
       "193      Lazar   Markovic   5.4  4.500000\n",
       "16       Mario  Balotelli   6.3  4.300000\n",
       "181      Dejan     Lovren   4.9  4.271605\n",
       "47        Emre        Can   4.8  4.250000\n",
       "259    Mamadou      Sakho   4.8  3.980000\n",
       "141      Danny       Ings   5.6  3.971429\n",
       "211      James     Milner   6.5  3.652174\n",
       "183      Leiva      Lucas   4.4  3.014925"
      ]
     },
     "execution_count": 616,
     "metadata": {},
     "output_type": "execute_result"
    }
   ],
   "source": [
    "prices[prices['Team']=='LIV'][['FirstName','Surname','Cost','PPM']].sort_values(by='PPM',ascending=False)[:30]"
   ]
  },
  {
   "cell_type": "code",
   "execution_count": 4230,
   "metadata": {
    "collapsed": true
   },
   "outputs": [],
   "source": [
    "for index,row in prices.iterrows():\n",
    "    if(index==320):\n",
    "        prices.set_value(index,'Points_2016',4)"
   ]
  },
  {
   "cell_type": "code",
   "execution_count": 4183,
   "metadata": {
    "collapsed": false
   },
   "outputs": [
    {
     "name": "stdout",
     "output_type": "stream",
     "text": [
      "Test Statistic          -4.158148\n",
      "p-value                  0.000775\n",
      "#Lags used               0.000000\n",
      "No. of obser            27.000000\n",
      "Critical Value (5%)     -2.976430\n",
      "Critical Value (1%)     -3.699608\n",
      "Critical Value (10%)    -2.627601\n",
      "dtype: float64\n"
     ]
    },
    {
     "data": {
      "image/png": "[encoded data removed]",
      "text/plain": [
       "<matplotlib.figure.Figure at 0x1ebe9ee90>"
      ]
     },
     "metadata": {},
     "output_type": "display_data"
    }
   ],
   "source": [
    "x = []\n",
    "y = pd.Series()\n",
    "z = pd.Series()\n",
    "for index,row in prices.iterrows():\n",
    "    if(index==325):\n",
    "        lastmat= row['Matches_2016']\n",
    "        joo = 1\n",
    "        for i in range(1,115,1):\n",
    "            if(row[str(i)]!='-'):\n",
    "                jj = dat(joo)\n",
    "                x.append(joo)\n",
    "                y.set_value(jj,float(row[str(i)]))\n",
    "                joo = joo + 1\n",
    "startd = dat(joo)[:10]\n",
    "endd = dat(joo+lastmat-1)[:10]\n",
    "plt.plot(x,y)\n",
    "dftest = adfuller(y,autolag='AIC')\n",
    "dfoutput = pd.Series(dftest[0:4],index=['Test Statistic','p-value','#Lags used','No. of obser'])\n",
    "for key,value in dftest[4].items():\n",
    "    dfoutput['Critical Value (%s)'%key] = value\n",
    "print dfoutput"
   ]
  },
  {
   "cell_type": "code",
   "execution_count": 4184,
   "metadata": {
    "collapsed": false
   },
   "outputs": [],
   "source": [
    "lag_acf = acf(y,nlags=10)\n",
    "lag_pacf = pacf(y,nlags=10,method='ols')"
   ]
  },
  {
   "cell_type": "code",
   "execution_count": 4185,
   "metadata": {
    "collapsed": false
   },
   "outputs": [
    {
     "name": "stdout",
     "output_type": "stream",
     "text": [
      "1\n"
     ]
    },
    {
     "data": {
      "image/png": "[encoded data removed]",
      "text/plain": [
       "<matplotlib.figure.Figure at 0x1ebe5d410>"
      ]
     },
     "metadata": {},
     "output_type": "display_data"
    }
   ],
   "source": [
    "plt.plot(lag_acf)\n",
    "plt.axhline(y=0,linestyle='--',color='gray')\n",
    "plt.axhline(y=-1.96/np.sqrt(len(y)),linestyle='--',color='gray')\n",
    "plt.axhline(y=1.96/np.sqrt(len(y)),linestyle='--',color='gray')\n",
    "plt.title('Autocorrelation Function')\n",
    "buf = 1.96/np.sqrt(len(y))\n",
    "c = 0\n",
    "for i in lag_acf:\n",
    "    if(i<buf):\n",
    "        break\n",
    "    else:\n",
    "        c = c + 1\n",
    "print c"
   ]
  },
  {
   "cell_type": "code",
   "execution_count": 4186,
   "metadata": {
    "collapsed": false
   },
   "outputs": [
    {
     "name": "stdout",
     "output_type": "stream",
     "text": [
      "1\n"
     ]
    },
    {
     "data": {
      "image/png": "[encoded data removed]",
      "text/plain": [
       "<matplotlib.figure.Figure at 0x1ed3b1490>"
      ]
     },
     "metadata": {},
     "output_type": "display_data"
    }
   ],
   "source": [
    "plt.plot(lag_pacf)\n",
    "#print lag_pacf,1.96/np.sqrt(len(y))\n",
    "plt.axhline(y=0,linestyle='--',color='gray')\n",
    "plt.axhline(y=-1.96/np.sqrt(len(y)),linestyle='--',color='gray')\n",
    "plt.axhline(y=1.96/np.sqrt(len(y)),linestyle='--',color='gray')\n",
    "plt.title('Partial Autocorrelation Function')\n",
    "buf = 1.96/np.sqrt(len(y))\n",
    "c = 0\n",
    "for i in lag_pacf:\n",
    "    if(i<buf):\n",
    "        break\n",
    "    else:\n",
    "        c = c + 1\n",
    "print c"
   ]
  },
  {
   "cell_type": "code",
   "execution_count": 4188,
   "metadata": {
    "collapsed": false
   },
   "outputs": [
    {
     "data": {
      "text/plain": [
       "<matplotlib.text.Text at 0x1edb12dd0>"
      ]
     },
     "execution_count": 4188,
     "metadata": {},
     "output_type": "execute_result"
    },
    {
     "data": {
      "image/png": "[encoded data removed]",
      "text/plain": [
       "<matplotlib.figure.Figure at 0x1ed415790>"
      ]
     },
     "metadata": {},
     "output_type": "display_data"
    }
   ],
   "source": [
    "from statsmodels.tsa.arima_model import ARIMA\n",
    "y.index = pd.to_datetime(y.index)\n",
    "model = ARIMA(y,order=(6,0,2))\n",
    "results_AR = model.fit(disp=-1)\n",
    "pred = results_AR.predict(start=startd,end=endd)\n",
    "#print pred\n",
    "plt.plot(y)\n",
    "plt.plot(results_AR.fittedvalues,color='red')\n",
    "plt.title('RSS: %.4f'% sum((results_AR.fittedvalues-y)**2))"
   ]
  },
  {
   "cell_type": "code",
   "execution_count": 4189,
   "metadata": {
    "collapsed": false
   },
   "outputs": [
    {
     "name": "stdout",
     "output_type": "stream",
     "text": [
      "64.9774479417\n",
      "56.9477870475\n"
     ]
    }
   ],
   "source": [
    "tot = len(results_AR.fittedvalues)\n",
    "inn = tot - (lastmat)\n",
    "s = 0\n",
    "for index,er in enumerate(results_AR.fittedvalues):\n",
    "    if(index>=inn):\n",
    "        s = s + er\n",
    "print s\n",
    "tuu = 0\n",
    "for i in pred:\n",
    "    tuu = tuu + i\n",
    "print tuu"
   ]
  },
  {
   "cell_type": "code",
   "execution_count": 4190,
   "metadata": {
    "collapsed": true
   },
   "outputs": [],
   "source": [
    "for index,row in prices.iterrows():\n",
    "    if(index==325):\n",
    "        prices.set_value(index,'Points_2016',57)"
   ]
  },
  {
   "cell_type": "code",
   "execution_count": 4232,
   "metadata": {
    "collapsed": true
   },
   "outputs": [],
   "source": [
    "final = prices[['Matches_2016','Points_2016','ID']]"
   ]
  },
  {
   "cell_type": "code",
   "execution_count": 4233,
   "metadata": {
    "collapsed": false
   },
   "outputs": [],
   "source": [
    "final.to_csv('Priceless1.csv',index=False)"
   ]
  },
  {
   "cell_type": "code",
   "execution_count": 4235,
   "metadata": {
    "collapsed": true
   },
   "outputs": [],
   "source": [
    "final_price = pd.read_excel('Fantasy Football - DataSet.xlsx',sheetname='FPL Player Prices')"
   ]
  },
  {
   "cell_type": "code",
   "execution_count": 4260,
   "metadata": {
    "collapsed": false
   },
   "outputs": [],
   "source": [
    "final_price['ID'] = 0\n",
    "i = 1\n",
    "for index,row in final_price.iterrows():\n",
    "    final_price.set_value(index,'ID',i)\n",
    "    i = i + 1\n",
    "final_price['Points_2016'] = -1.0\n",
    "final_price['Matches_2016'] = -1.0"
   ]
  },
  {
   "cell_type": "code",
   "execution_count": 4261,
   "metadata": {
    "collapsed": false
   },
   "outputs": [],
   "source": [
    "for index,row in final_price.iterrows():\n",
    "    for i,r in final.iterrows():\n",
    "        if(row['ID']==r['ID']):\n",
    "            final_price.set_value(index,'Points_2016',r['Points_2016'])\n",
    "            final_price.set_value(index,'Matches_2016',r['Matches_2016'])\n",
    "            break"
   ]
  },
  {
   "cell_type": "code",
   "execution_count": 4262,
   "metadata": {
    "collapsed": false
   },
   "outputs": [],
   "source": [
    "final_price['PPM'] = 0.0\n",
    "for index,row in final_price.iterrows():\n",
    "    if(row['Matches_2016']!=-1):\n",
    "        x = row['Points_2016']/float(row['Matches_2016'])\n",
    "        final_price.set_value(index,'PPM',x)"
   ]
  },
  {
   "cell_type": "code",
   "execution_count": 4286,
   "metadata": {
    "collapsed": false
   },
   "outputs": [],
   "source": [
    "final_price.to_csv('Useforlpp.csv',columns=('PositionsList','Cost','ID','Matches_2016','Points_2016','PPM'),index=False)"
   ]
  },
  {
   "cell_type": "markdown",
   "metadata": {},
   "source": [
    "## Linear Programming for Dream Team"
   ]
  },
  {
   "cell_type": "code",
   "execution_count": 1,
   "metadata": {
    "collapsed": true
   },
   "outputs": [],
   "source": [
    "from pulp import *\n",
    "import pandas as pd"
   ]
  },
  {
   "cell_type": "code",
   "execution_count": null,
   "metadata": {
    "collapsed": true
   },
   "outputs": [],
   "source": [
    "data = pd.read_csv('Useforlpp.csv')"
   ]
  },
  {
   "cell_type": "code",
   "execution_count": null,
   "metadata": {
    "collapsed": true
   },
   "outputs": [],
   "source": [
    "data2 = data[data['Matches_2016']!=-1.0]"
   ]
  },
  {
   "cell_type": "code",
   "execution_count": null,
   "metadata": {
    "collapsed": true
   },
   "outputs": [],
   "source": [
    "prob = LpProblem(\"Dream_Team\",LpMaximize)\n",
    "players = []\n",
    "poin = {}\n",
    "cost = {}\n",
    "glk = []\n",
    "fwd = []\n",
    "mid = []\n",
    "defe = []\n",
    "for index,row in data2.iterrows():\n",
    "    vari = 'x'+str(row['ID'])\n",
    "    pos = row['PositionsList']\n",
    "    players.append(vari)\n",
    "    poin[vari] = row['Points_2016'] #Used in Objective Function\n",
    "    cost[vari] = row['Cost']/1000000.0 #Dividing by Million\n",
    "    if(pos=='GLK'):\n",
    "        glk.append(vari)\n",
    "    elif(pos=='FWD'):\n",
    "        fwd.append(vari)\n",
    "    elif(pos=='MID'):\n",
    "        mid.append(vari)\n",
    "    elif(pos=='DEF'):\n",
    "        defe.append(vari)\n",
    "x = pulp.LpVariable.dicts('players',players,lowBound=0,upBound=1,cat = pulp.LpInteger)\n",
    "prob+= sum(poin[i]*x[i] for i in players)\n",
    "prob+= sum(cost[i]*x[i] for i in players) <= 100.0 #Budget is 100 Million\n",
    "prob+= sum(x[i] for i in fwd) == 3 #Limit of 3 Strikers\n",
    "prob+= sum(x[i] for i in glk) == 2 #Limit of 2 Goalies\n",
    "prob+= sum(x[i] for i in mid) == 5 #Limit of 5 Midfielders\n",
    "prob+= sum(x[i] for i in defe) == 5 #Limit of 5 Defenders\n",
    "import time\n",
    "st = time.clock()\n",
    "prob.solve()\n",
    "en = time.clock()\n",
    "print (en-st)"
   ]
  },
  {
   "cell_type": "code",
   "execution_count": null,
   "metadata": {
    "collapsed": true
   },
   "outputs": [],
   "source": [
    "print \"Status:\", LpStatus[prob.status]\n",
    "final_players = []\n",
    "for v in prob.variables():\n",
    "    if(v.varValue==1.0):\n",
    "        final_players.append(int(v.name[9:]))\n",
    "print final_players"
   ]
  },
  {
   "cell_type": "code",
   "execution_count": null,
   "metadata": {
    "collapsed": true
   },
   "outputs": [],
   "source": [
    "print\"Maximum Points = \", value(prob.objective)"
   ]
  },
  {
   "cell_type": "code",
   "execution_count": 4307,
   "metadata": {
    "collapsed": false
   },
   "outputs": [
    {
     "name": "stdout",
     "output_type": "stream",
     "text": [
      "Tom Cleverley MID EVE 227 32 4.10465116279\n",
      "0.0233480176211\n",
      "Toby Alderweireld DEF TOT 293 26 7.09615384615\n",
      "0.0221843003413\n",
      "Stewart Downing MID MID 200 37 4.6\n",
      "0.027\n",
      "Cesc FÃ bregas MID CHE 249 33 7.18181818182\n",
      "0.0285140562249\n",
      "Jose Fonte DEF SOU 278 37 5.97272727273\n",
      "0.0194244604317\n",
      "Joe Hart GLK MCI 194 36 4.86\n",
      "0.0273195876289\n",
      "Eden Hazard MID CHE 275 37 7.32407407407\n",
      "0.0367272727273\n",
      "Branislav Ivanovic DEF CHE 302 37 6.38532110092\n",
      "0.0198675496689\n",
      "Romelu Lukaku FWD EVE 301 36 6.45098039216\n",
      "0.0308970099668\n",
      "Simon Mignolet GLK LIV 176 35 4.64485981308\n",
      "0.0284090909091\n",
      "Ross Barkley MID EVE 249 29 5.33333333333\n",
      "0.0305220883534\n",
      "Chris Smalling DEF MUN 223 25 6.18666666667\n",
      "0.0264573991031\n",
      "Saido Berahino FWD WBA 222 38 4.45794392523\n",
      "0.0283783783784\n",
      "Jamie Vardy FWD LEI 293 35 6.55882352941\n",
      "0.0337883959044\n",
      "Chris Brunt DEF WBA 236 34 4.89473684211\n",
      "0.0207627118644\n",
      "100.0 3718 4352\n"
     ]
    }
   ],
   "source": [
    "f = [110,12,161,173,189,232,234,262,332,375,42,498,54,542,76] #Total Points\n",
    "\n",
    "c = 0\n",
    "p = 0\n",
    "pl = 0\n",
    "for i in f:\n",
    "    for index,row in prices.iterrows():\n",
    "        if(row['ID']==i):\n",
    "            print row['FirstName'],row['Surname'],row['PositionsList'],row['Team'],row['Points_2016'],row['Matches_2016'],row['PPM']\n",
    "            c = c + row['Cost']\n",
    "            p = p + row['Points_2016']\n",
    "            pl = pl + row['Points_2015']\n",
    "            uuu = row['Cost']/row['Points_2016']\n",
    "            print uuu\n",
    "print c,p,pl"
   ]
  },
  {
   "cell_type": "code",
   "execution_count": 4310,
   "metadata": {
    "collapsed": false
   },
   "outputs": [
    {
     "data": {
      "text/plain": [
       "<matplotlib.axes._subplots.AxesSubplot at 0x1ed73ced0>"
      ]
     },
     "execution_count": 4310,
     "metadata": {},
     "output_type": "execute_result"
    },
    {
     "data": {
      "image/png": "[encoded data removed]",
      "text/plain": [
       "<matplotlib.figure.Figure at 0x1e3332410>"
      ]
     },
     "metadata": {},
     "output_type": "display_data"
    }
   ],
   "source": [
    "sns.boxplot(prices['PositionsList'],prices['Points_2016'])"
   ]
  },
  {
   "cell_type": "code",
   "execution_count": 4317,
   "metadata": {
    "collapsed": false
   },
   "outputs": [],
   "source": [
    "final_price['CPP'] = 0.0\n",
    "for index,row in final_price.iterrows():\n",
    "    x = row['Cost']/(row['Points_2016']*1000000)\n",
    "    if(row['Matches_2016']==-1.0):\n",
    "        final_price.set_value(index,'CPP',-1.0)\n",
    "    else:\n",
    "        final_price.set_value(index,'CPP',x)"
   ]
  },
  {
   "cell_type": "code",
   "execution_count": 4319,
   "metadata": {
    "collapsed": false
   },
   "outputs": [],
   "source": [
    "we = final_price[final_price['CPP']!=-1.0]"
   ]
  },
  {
   "cell_type": "code",
   "execution_count": 4322,
   "metadata": {
    "collapsed": false
   },
   "outputs": [],
   "source": [
    "we2= we[we['Matches_2016']>=20]"
   ]
  },
  {
   "cell_type": "code",
   "execution_count": 4361,
   "metadata": {
    "collapsed": false
   },
   "outputs": [],
   "source": [
    "mini = np.min(we2['PPM'])\n",
    "maxi = np.max(we2['PPM'])\n",
    "mini2 = np.min(we2['CPP'])\n",
    "maxi2 = np.max(we2['CPP'])\n",
    "final_price['CPI'] = -1.0\n",
    "for index,row in final_price.iterrows():\n",
    "    if(row['Matches_2016']>=20.0):\n",
    "        x = (row['PPM']-mini)/(maxi-mini)\n",
    "        y = (row['CPP']-mini2)/(maxi2-mini2        z = x*0.5+(1-y)*0.5\n",
    "        final_price.set_value(index,'CPI',z)"
   ]
  },
  {
   "cell_type": "code",
   "execution_count": 4380,
   "metadata": {
    "collapsed": false
   },
   "outputs": [],
   "source": [
    "for index,row in final_price.iterrows():\n",
    "    if(row['PPM']==0.0):\n",
    "        final_price.set_value(index,'PPM',-1.0)"
   ]
  },
  {
   "cell_type": "code",
   "execution_count": 4400,
   "metadata": {
    "collapsed": false
   },
   "outputs": [
    {
     "data": {
      "text/plain": [
       "<matplotlib.axes._subplots.AxesSubplot at 0x1ea50bc10>"
      ]
     },
     "execution_count": 4400,
     "metadata": {},
     "output_type": "execute_result"
    },
    {
     "data": {
      "image/png": "[encoded data removed]",
      "text/plain": [
       "<matplotlib.figure.Figure at 0x1eb43ef90>"
      ]
     },
     "metadata": {},
     "output_type": "display_data"
    }
   ],
   "source": [
    "sns.boxplot(we2['Team'],we2['CPI'])"
   ]
  },
  {
   "cell_type": "code",
   "execution_count": 4399,
   "metadata": {
    "collapsed": false
   },
   "outputs": [
    {
     "data": {
      "text/plain": [
       "<matplotlib.axes._subplots.AxesSubplot at 0x1ecc1c590>"
      ]
     },
     "execution_count": 4399,
     "metadata": {},
     "output_type": "execute_result"
    },
    {
     "data": {
      "image/png": "[encoded data removed]",
      "text/plain": [
       "<matplotlib.figure.Figure at 0x1eb44e810>"
      ]
     },
     "metadata": {},
     "output_type": "display_data"
    }
   ],
   "source": [
    "sns.boxplot(we2['PositionsList'],we2['GF'])"
   ]
  }
 ],
 "metadata": {
  "kernelspec": {
   "display_name": "Python 2",
   "language": "python",
   "name": "python2"
  },
  "language_info": {
   "codemirror_mode": {
    "name": "ipython",
    "version": 2
   },
   "file_extension": ".py",
   "mimetype": "text/x-python",
   "name": "python",
   "nbconvert_exporter": "python",
   "pygments_lexer": "ipython2",
   "version": "2.7.10"
  }
 },
 "nbformat": 4,
 "nbformat_minor": 0
}
