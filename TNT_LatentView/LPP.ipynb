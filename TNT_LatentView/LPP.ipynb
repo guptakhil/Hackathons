{
 "cells": [
  {
   "cell_type": "code",
   "execution_count": 1,
   "metadata": {
    "collapsed": true
   },
   "outputs": [],
   "source": [
    "from pulp import *\n",
    "import pandas as pd"
   ]
  },
  {
   "cell_type": "code",
   "execution_count": 9,
   "metadata": {
    "collapsed": false
   },
   "outputs": [
    {
     "name": "stderr",
     "output_type": "stream",
     "text": [
      "/Library/Frameworks/Python.framework/Versions/2.7/lib/python2.7/site-packages/matplotlib/__init__.py:872: UserWarning: axes.color_cycle is deprecated and replaced with axes.prop_cycle; please use the latter.\n",
      "  warnings.warn(self.msg_depr % (key, alt_key))\n"
     ]
    }
   ],
   "source": [
    "import pandas as pd\n",
    "%matplotlib inline\n",
    "import matplotlib.pyplot as plt\n",
    "import seaborn as sns\n",
    "import numpy as np\n",
    "import scipy.stats as st\n",
    "import xlrd\n",
    "import math\n",
    "\n",
    "from matplotlib import rcParams\n",
    "\n",
    "pd.set_option('display.max_columns', 200)\n",
    "pd.set_option('display.max_rows',2000)\n",
    "\n",
    "#these colors come from colorbrewer2.org. Each is an RGB triplet\n",
    "dark2_colors = [(0.10588235294117647, 0.6196078431372549, 0.4666666666666667),\n",
    "                (0.8509803921568627, 0.37254901960784315, 0.00784313725490196),\n",
    "                (0.4588235294117647, 0.4392156862745098, 0.7019607843137254),\n",
    "                (0.9058823529411765, 0.1607843137254902, 0.5411764705882353),\n",
    "                (0.4, 0.6509803921568628, 0.11764705882352941),\n",
    "                (0.9019607843137255, 0.6705882352941176, 0.00784313725490196),\n",
    "                (0.6509803921568628, 0.4627450980392157, 0.11372549019607843),\n",
    "                (0.4, 0.4, 0.4)]\n",
    "\n",
    "rcParams['figure.figsize'] = (10, 6)\n",
    "rcParams['figure.dpi'] = 150\n",
    "rcParams['axes.color_cycle'] = dark2_colors\n",
    "rcParams['lines.linewidth'] = 2\n",
    "rcParams['axes.grid'] = True\n",
    "rcParams['axes.facecolor'] = '#eeeeee'\n",
    "rcParams['font.size'] = 14\n",
    "rcParams['patch.edgecolor'] = 'none'"
   ]
  },
  {
   "cell_type": "code",
   "execution_count": 2,
   "metadata": {
    "collapsed": true
   },
   "outputs": [],
   "source": [
    "data = pd.read_csv('Useforlpp.csv')"
   ]
  },
  {
   "cell_type": "code",
   "execution_count": 3,
   "metadata": {
    "collapsed": false
   },
   "outputs": [],
   "source": [
    "data2 = data[data['Matches_2016']!=-1.0]"
   ]
  },
  {
   "cell_type": "code",
   "execution_count": 4,
   "metadata": {
    "collapsed": false
   },
   "outputs": [
    {
     "name": "stdout",
     "output_type": "stream",
     "text": [
      "0.009449\n"
     ]
    }
   ],
   "source": [
    "prob = LpProblem(\"Dream_Team\",LpMaximize)\n",
    "players = []\n",
    "poin = {}\n",
    "cost = {}\n",
    "glk = []\n",
    "fwd = []\n",
    "mid = []\n",
    "defe = []\n",
    "for index,row in data2.iterrows():\n",
    "    vari = 'x'+str(row['ID'])\n",
    "    pos = row['PositionsList']\n",
    "    players.append(vari)\n",
    "    poin[vari] = row['Points_2016'] #Used in Objective Function\n",
    "    cost[vari] = row['Cost']/1000000.0 #Dividing by Million\n",
    "    if(pos=='GLK'):\n",
    "        glk.append(vari)\n",
    "    elif(pos=='FWD'):\n",
    "        fwd.append(vari)\n",
    "    elif(pos=='MID'):\n",
    "        mid.append(vari)\n",
    "    elif(pos=='DEF'):\n",
    "        defe.append(vari)\n",
    "x = pulp.LpVariable.dicts('players',players,lowBound=0,upBound=1,cat = pulp.LpInteger)\n",
    "prob+= sum(poin[i]*x[i] for i in players)\n",
    "prob+= sum(cost[i]*x[i] for i in players) <= 100.0 #Budget is 100 Million\n",
    "prob+= sum(x[i] for i in fwd) == 3 #Limit of 3 Strikers\n",
    "prob+= sum(x[i] for i in glk) == 2 #Limit of 2 Goalies\n",
    "prob+= sum(x[i] for i in mid) == 5 #Limit of 5 Midfielders\n",
    "prob+= sum(x[i] for i in defe) == 5 #Limit of 5 Defenders\n",
    "import time\n",
    "st = time.clock()\n",
    "prob.solve()\n",
    "en = time.clock()\n",
    "print (en-st)"
   ]
  },
  {
   "cell_type": "code",
   "execution_count": 5,
   "metadata": {
    "collapsed": false
   },
   "outputs": [
    {
     "name": "stdout",
     "output_type": "stream",
     "text": [
      "Status: Optimal\n"
     ]
    }
   ],
   "source": [
    "print \"Status:\", LpStatus[prob.status]"
   ]
  },
  {
   "cell_type": "code",
   "execution_count": 6,
   "metadata": {
    "collapsed": false
   },
   "outputs": [
    {
     "name": "stdout",
     "output_type": "stream",
     "text": [
      "[110, 12, 161, 173, 189, 232, 234, 262, 332, 375, 42, 498, 54, 542, 76]\n"
     ]
    }
   ],
   "source": [
    "final_players = []\n",
    "for v in prob.variables():\n",
    "    if(v.varValue==1.0):\n",
    "        final_players.append(int(v.name[9:]))\n",
    "print final_players"
   ]
  },
  {
   "cell_type": "code",
   "execution_count": 7,
   "metadata": {
    "collapsed": false
   },
   "outputs": [
    {
     "name": "stdout",
     "output_type": "stream",
     "text": [
      "Maximum Points =  3718.0\n"
     ]
    }
   ],
   "source": [
    "print\"Maximum Points = \", value(prob.objective)"
   ]
  },
  {
   "cell_type": "code",
   "execution_count": 8,
   "metadata": {
    "collapsed": true
   },
   "outputs": [],
   "source": [
    "a = [9,9,9,7,6,6,6,4,4,3,3,2,1,1,1]\n",
    "b = [1,5,2,6,8,12,18,10,9,22,11,8,4,15,19]"
   ]
  },
  {
   "cell_type": "code",
   "execution_count": 10,
   "metadata": {
    "collapsed": false
   },
   "outputs": [
    {
     "data": {
      "text/plain": [
       "<matplotlib.collections.PathCollection at 0x108d647d0>"
      ]
     },
     "execution_count": 10,
     "metadata": {},
     "output_type": "execute_result"
    },
    {
     "data": {
      "image/png": "[encoded data removed]",
      "text/plain": [
       "<matplotlib.figure.Figure at 0x105c83790>"
      ]
     },
     "metadata": {},
     "output_type": "display_data"
    }
   ],
   "source": [
    "plt.scatter(a,b)"
   ]
  },
  {
   "cell_type": "code",
   "execution_count": null,
   "metadata": {
    "collapsed": true
   },
   "outputs": [],
   "source": []
  }
 ],
 "metadata": {
  "kernelspec": {
   "display_name": "Python 2",
   "language": "python",
   "name": "python2"
  },
  "language_info": {
   "codemirror_mode": {
    "name": "ipython",
    "version": 2
   },
   "file_extension": ".py",
   "mimetype": "text/x-python",
   "name": "python",
   "nbconvert_exporter": "python",
   "pygments_lexer": "ipython2",
   "version": "2.7.10"
  }
 },
 "nbformat": 4,
 "nbformat_minor": 0
}
